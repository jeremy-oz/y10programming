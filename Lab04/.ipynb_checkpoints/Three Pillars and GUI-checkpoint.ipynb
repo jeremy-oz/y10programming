{
 "cells": [
  {
   "cell_type": "markdown",
   "metadata": {},
   "source": [
    "# Learning Goals:\n",
    "\n",
    "## Many faces and Pac-Man\n",
    "\n",
    "### Make a face\n",
    "\n",
    "* Use basic shapes and compose sophisticated pictures\n",
    "* Use a range of different colors\n",
    "* Draw many faces\n",
    "\n",
    "### Python skills\n",
    "* the computer coordinate system\n",
    "* colour names\n",
    "* import module\n",
    "* use `for` to repeat tasks\n",
    "\n",
    "### Pac-Man and Ghosts\n",
    "\n",
    "* create animation\n",
    "* random appearance of ghosts\n",
    "\n",
    "### Python skills\n",
    "* use `range(start_inclusive, end_exclusive, step)` to produce a convenient list\n",
    "* use `time.sleep(seconds)` to delay or time a task\n",
    "\n",
    "\n",
    "\n",
    "\n",
    "## 25 squares - Creavtive Coding and Art\n",
    "\n",
    "The final product [link](https://www.openprocessing.org/sketch/209391)\n",
    "* create an visual art piece\n",
    "* find a scale-down solution\n",
    "\n"
   ]
  },
  {
   "cell_type": "markdown",
   "metadata": {},
   "source": [
    "## Conditional Statements\n",
    "\n",
    "<img src=\"conditional01.png\">"
   ]
  },
  {
   "cell_type": "markdown",
   "metadata": {
    "collapsed": true
   },
   "source": [
    "## Guess the number (continued)\n",
    "\n",
    "### How to compare\n",
    "\n",
    "\n",
    "| Python        | Meanin                |\n",
    "|:-------------:|:---------------------:|\n",
    "| <             | less than             |\n",
    "| <=            | less than or equal    |\n",
    "| ==            | less than or equal    |\n",
    "| >             | greater than          |\n",
    "| <=            | greater than or equal |\n",
    "| !=            | not equal             |\n",
    "\n",
    "\n",
    "\n"
   ]
  },
  {
   "cell_type": "code",
   "execution_count": 2,
   "metadata": {},
   "outputs": [
    {
     "name": "stdout",
     "output_type": "stream",
     "text": [
      "What is your guess: 23\n",
      "Bigger\n",
      "Finis\n"
     ]
    }
   ],
   "source": [
    "number = 55\n",
    "\n",
    "# x is the guess\n",
    "x = input('What is your guess: ')\n",
    "x = int(x)\n",
    "\n",
    "if x > number:\n",
    "    print('Smaller')\n",
    "\n",
    "elif x < number:\n",
    "    print('Bigger')\n",
    "\n",
    "print('Finis')"
   ]
  },
  {
   "cell_type": "markdown",
   "metadata": {
    "collapsed": true
   },
   "source": [
    "# Draw a Face\n",
    "\n",
    "<img src=\"human_face.png\">\n",
    "\n",
    "\n",
    "## tkinter module\n",
    "\n",
    "We will start using tkinter now. You will need to start with this four lines every time. You can guess what they are doing but more explanation will be available when you are learning Object Oriented Programming (OOP) in a few weeks.\n",
    "\n",
    "<hr/>\n",
    "```\n",
    "from tkinter import *\n",
    "\n",
    "\n",
    "tk = Tk()\n",
    "canvas = Canvas(tk, width=400, height=400)\n",
    "canvas.pack()\n",
    "\n",
    "[YOUR CODE HERE]\n",
    "\n",
    "tk.mainloop()\n",
    "# tk.mainloop() is needed if you are running a python file.\n",
    "```\n",
    "<hr/>\n",
    "\n",
    "Think yourself a wizard, to summon your magic power, you need a spell. Here it is **\"from MODULE import POWER\"**.\n"
   ]
  },
  {
   "cell_type": "code",
   "execution_count": 5,
   "metadata": {
    "collapsed": true
   },
   "outputs": [],
   "source": [
    "# Draw a face\n",
    "from tkinter import *\n",
    "\n",
    "\n",
    "tk = Tk()\n",
    "canvas = Canvas(tk, width=400, height=400)\n",
    "canvas.pack()\n",
    "\n"
   ]
  },
  {
   "cell_type": "markdown",
   "metadata": {},
   "source": [
    "<img src=\"tk01.png\" width=\"200\">\n",
    "\n",
    "<img src=\"tk_coordinates_2D.png\" width=\"400\">\n",
    "[Image source](http://programarcadegames.com/index.php?chapter=introduction_to_graphics)"
   ]
  },
  {
   "cell_type": "code",
   "execution_count": 6,
   "metadata": {},
   "outputs": [
    {
     "data": {
      "text/plain": [
       "1"
      ]
     },
     "execution_count": 6,
     "metadata": {},
     "output_type": "execute_result"
    }
   ],
   "source": [
    "# Draw a circle like object using oval\n",
    "# oval = canvas.create_oval(x0, y0, x1, y1, options)\n",
    "\n",
    "from tkinter import *\n",
    "\n",
    "\n",
    "tk = Tk()\n",
    "canvas = Canvas(tk, width=400, height=400)\n",
    "canvas.pack()\n",
    "canvas.create_oval(10, 10, 100, 100)"
   ]
  },
  {
   "cell_type": "code",
   "execution_count": 1,
   "metadata": {
    "collapsed": true
   },
   "outputs": [],
   "source": [
    "# Now draw a face\n",
    "from tkinter import *\n",
    "\n",
    "\n",
    "tk = Tk()\n",
    "canvas = Canvas(tk, width=400, height=400)\n",
    "canvas.pack()\n",
    "canvas.create_oval(10, 10, 100, 100) # face\n",
    "canvas.create_oval(30, 30, 45, 40) # left eye\n",
    "canvas.create_oval(30+35, 30, 45+35, 40) # right eye\n",
    "\n"
   ]
  },
  {
   "cell_type": "markdown",
   "metadata": {},
   "source": [
    "## Draw more objects\n",
    "\n",
    "* ovals (circles)\n",
    "* lines\n",
    "* rectangles\n",
    "* arcs\n",
    "\n"
   ]
  },
  {
   "cell_type": "markdown",
   "metadata": {},
   "source": [
    "### Add eyebrows"
   ]
  },
  {
   "cell_type": "code",
   "execution_count": null,
   "metadata": {
    "collapsed": true
   },
   "outputs": [],
   "source": [
    "# draw lines\n",
    "\n",
    "canvas.create_line(30-5, 25, 45+5, 25) # left eyebrow\n",
    "canvas.create_line(30+35, 25, 45+5+35, 25) # right eyebrow\n"
   ]
  },
  {
   "cell_type": "markdown",
   "metadata": {},
   "source": [
    "### Add a nose"
   ]
  },
  {
   "cell_type": "code",
   "execution_count": 6,
   "metadata": {
    "collapsed": true
   },
   "outputs": [],
   "source": [
    "# draw rectangles\n",
    "\n",
    "canvas.create_rectangle(50, 45, 60, 70)"
   ]
  },
  {
   "cell_type": "markdown",
   "metadata": {},
   "source": [
    "### Add a mouth"
   ]
  },
  {
   "cell_type": "code",
   "execution_count": null,
   "metadata": {
    "collapsed": true
   },
   "outputs": [],
   "source": [
    "# draw arc: two styles\n",
    "# style 1 (default): an arc line\n",
    "canvas.create_arc(30, 50, 80, 90, extent=-180)\n",
    "# style 2: style=ARC, an arc area\n",
    "canvas.create_arc(30, 50, 80, 90, extent=-180, style=ARC)"
   ]
  },
  {
   "cell_type": "markdown",
   "metadata": {},
   "source": [
    "### Eraser\n",
    "\n",
    "You can use canvas.delete(1) to delete the number of object (oval) you don't like.\n",
    "\n",
    "```\n",
    "canvas.delete(1)\n",
    "```\n",
    "\n",
    "To erase all objects:\n",
    "\n",
    "```\n",
    "canvas.delete('all')\n",
    "```\n"
   ]
  },
  {
   "cell_type": "markdown",
   "metadata": {},
   "source": [
    "### Add some colours\n",
    "\n",
    "Use\n",
    "\n",
    "```\n",
    "canvas.create_oval(30, 30, 45, 40, fill='blue') # left blue eye\n",
    "canvas.create_oval(30+35, 30, 45+35, 40, fill='blue') # right blue eye\n",
    "```"
   ]
  },
  {
   "cell_type": "markdown",
   "metadata": {
    "collapsed": true
   },
   "source": [
    "# Lab 4.1 Draw a robot face\n",
    "\n",
    "<img src=\"robot_face.png\" width=\"300\">"
   ]
  },
  {
   "cell_type": "markdown",
   "metadata": {
    "collapsed": true
   },
   "source": [
    "## Colours you can use with tkinter\n",
    "<img src=\"TkInterColorCharts.png\">\n",
    "\n",
    "Source: http://www.science.smith.edu/dftwiki/images/3/3d/TkInterColorCharts.png\n",
    "\n",
    "## Reference\n",
    "[More inforamtion about how to use tkinter Canvas](https://infohost.nmt.edu/tcc/help/pubs/tkinter/web/canvas.html)\n",
    "\n",
    "## Start file\n",
    "\n",
    "You can start with this file."
   ]
  },
  {
   "cell_type": "code",
   "execution_count": null,
   "metadata": {
    "collapsed": true
   },
   "outputs": [],
   "source": [
    "# %load face1.py\n",
    "from tkinter import *\n",
    "from random import choice\n",
    "\n",
    "colors = ['blue', 'green', 'red']\n",
    "\n",
    "tk = Tk()\n",
    "c = Canvas(tk, width=400, height=400)\n",
    "\n",
    "x1 = 5\n",
    "y1 = 5\n",
    "x2 = x1 + 195\n",
    "y2 = y1 + 195\n",
    "\n",
    "c.create_oval(x1, y1, x2, y2, fill=choice(colors))\n",
    "c.create_line(x1+50, y1+145, x2-45, y2-50)\n",
    "\n",
    "x1 = 150\n",
    "y1 = 150\n",
    "x2 = x1 + 195\n",
    "y2 = y1 + 195\n",
    "c.create_oval(x1, y1, x2, y2, fill=choice(colors))\n",
    "c.create_line(x1+50, y1+145, x2-45, y2-50)\n",
    "\n",
    "c.pack()\n",
    "\n",
    "tk.mainloop()\n"
   ]
  },
  {
   "cell_type": "code",
   "execution_count": null,
   "metadata": {
    "collapsed": true
   },
   "outputs": [],
   "source": []
  }
 ],
 "metadata": {
  "kernelspec": {
   "display_name": "Python 3",
   "language": "python",
   "name": "python3"
  },
  "language_info": {
   "codemirror_mode": {
    "name": "ipython",
    "version": 3
   },
   "file_extension": ".py",
   "mimetype": "text/x-python",
   "name": "python",
   "nbconvert_exporter": "python",
   "pygments_lexer": "ipython3",
   "version": "3.6.1"
  }
 },
 "nbformat": 4,
 "nbformat_minor": 2
}
