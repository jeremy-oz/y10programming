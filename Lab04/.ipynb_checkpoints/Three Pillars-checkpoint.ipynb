{
 "cells": [
  {
   "cell_type": "markdown",
   "metadata": {},
   "source": [
    "## Conditional Statements\n",
    "\n",
    "<img src=\"conditional01.png\">"
   ]
  },
  {
   "cell_type": "markdown",
   "metadata": {
    "collapsed": true
   },
   "source": [
    "## Guess the number (continued)\n",
    "\n",
    "### How to compare\n",
    "\n",
    "\n",
    "| Python        | Meanin                |\n",
    "|:-------------:|:---------------------:|\n",
    "| <             | less than             |\n",
    "| <=            | less than or equal    |\n",
    "| ==            | less than or equal    |\n",
    "| >             | greater than          |\n",
    "| <=            | greater than or equal |\n",
    "| !=            | not equal             |\n",
    "\n",
    "\n",
    "\n"
   ]
  },
  {
   "cell_type": "code",
   "execution_count": 2,
   "metadata": {},
   "outputs": [
    {
     "name": "stdout",
     "output_type": "stream",
     "text": [
      "What is your guess: 23\n",
      "Bigger\n",
      "Finis\n"
     ]
    }
   ],
   "source": [
    "number = 55\n",
    "\n",
    "# x is the guess\n",
    "x = input('What is your guess: ')\n",
    "x = int(x)\n",
    "\n",
    "if x > number:\n",
    "    print('Smaller')\n",
    "\n",
    "elif x < number:\n",
    "    print('Bigger')\n",
    "\n",
    "print('Finis')"
   ]
  },
  {
   "cell_type": "code",
   "execution_count": null,
   "metadata": {
    "collapsed": true
   },
   "outputs": [],
   "source": []
  }
 ],
 "metadata": {
  "kernelspec": {
   "display_name": "Python 3",
   "language": "python",
   "name": "python3"
  },
  "language_info": {
   "codemirror_mode": {
    "name": "ipython",
    "version": 3
   },
   "file_extension": ".py",
   "mimetype": "text/x-python",
   "name": "python",
   "nbconvert_exporter": "python",
   "pygments_lexer": "ipython3",
   "version": "3.6.1"
  }
 },
 "nbformat": 4,
 "nbformat_minor": 2
}
