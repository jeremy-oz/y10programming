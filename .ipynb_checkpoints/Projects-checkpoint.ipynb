{
 "cells": [
  {
   "cell_type": "markdown",
   "metadata": {},
   "source": [
    "# Projects\n",
    "\n",
    "## Streams:\n",
    "\n",
    "* Compulsory: Web Programming Basics\n",
    "\n",
    "* Advanced Web Programming\n",
    "\n",
    "* IoT: micro:bit or ESP8266 or ESP32\n",
    "\n",
    "    Networking\n",
    "    \n",
    "* Mobile: Pythonista or Kivy or libgdx\n",
    "\n",
    "    [Pythonista App Template](https://github.com/omz/PythonistaAppTemplate)\n",
    "\n",
    "* Data Science\n",
    "\n",
    "    [Australian Census](http://www.abs.gov.au/ausstats/abs@.nsf/mf/2071.0)\n",
    "\n",
    "## Research Processes\n",
    "\n",
    "* Important\n",
    "\n",
    "## Structure\n",
    "\n",
    "\n",
    "* learning material online\n",
    "* weekly deadline\n",
    "\n"
   ]
  },
  {
   "cell_type": "code",
   "execution_count": null,
   "metadata": {
    "collapsed": true
   },
   "outputs": [],
   "source": []
  }
 ],
 "metadata": {
  "kernelspec": {
   "display_name": "Python 3",
   "language": "python",
   "name": "python3"
  },
  "language_info": {
   "codemirror_mode": {
    "name": "ipython",
    "version": 3
   },
   "file_extension": ".py",
   "mimetype": "text/x-python",
   "name": "python",
   "nbconvert_exporter": "python",
   "pygments_lexer": "ipython3",
   "version": "3.6.1"
  }
 },
 "nbformat": 4,
 "nbformat_minor": 2
}
