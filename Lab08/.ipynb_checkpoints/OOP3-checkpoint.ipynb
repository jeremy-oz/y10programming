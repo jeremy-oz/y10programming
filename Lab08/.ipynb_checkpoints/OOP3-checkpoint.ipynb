{
 "cells": [
  {
   "cell_type": "markdown",
   "metadata": {},
   "source": [
    "# Welcome to Lesson 3 \n",
    "\n",
    "In Lesson 1 we used classes written by other people, and in Lesson 2 we wrote our own class from scratch. This lesson we will extend a class by adding our own functionality to existing code.\n",
    "\n",
    "Extending a class takes advantage of a concept called inheritance – the new class can be said to inherit properties from its parent class. To extend a class, we can define new attributes or methods, and also change the behaviour of existing methods.\n",
    "\n",
    "This lesson we will be creating characters to inhabit our game world."
   ]
  },
  {
   "cell_type": "markdown",
   "metadata": {},
   "source": [
    "# Extending an existing class \n",
    "\n",
    "<img src=\"oop3/Dave.png\" />\n",
    "\n",
    "This week we’re going to extend an existing class. This means we will create another class which uses the functionality of the existing class, but also adds to or overwrites some of it. It’s also perfectly normal to write your own classes and then extend them.\n",
    "\n",
    "If you are using a text editor, copy the code from this script, and paste and save it as a new file named **character.py** in the folder containing all your earlier code. Keep it in the same folder of **main.py**.\n",
    "\n",
    "The code is the Character class which we have written for you – if you have a look at it, you should recognize some familiar things.\n",
    "\n",
    "You’ll see that to create a Character object, the constructor needs two parameters – the character’s name, and a description of the character:\n",
    "\n",
    "```\n",
    "def __init__(self, char_name, char_description):\n",
    "    self.name = char_name\n",
    "    self.description = char_description\n",
    "    self.conversation = None\n",
    "```\n",
    "\n",
    "If you are using a text editor, create a new Python file and save it as **character_test.py** in the folder with your other code. If you are using Trinket, put this code inside the main.py file in the new trinket. Inside this file, create a character object.\n",
    "\n",
    "```\n",
    "from character import Character\n",
    "dave = Character(“Dave”, “A smelly zombie”)\n",
    "Call the method describe on the object you created to show the character’s description on the screen.\n",
    "dave.describe()\n",
    "```\n",
    "\n",
    "Save and run your program. You should see the description of the character you just created:\n",
    "\n",
    "```\n",
    "Dave is here!\n",
    "A smelly zombie\n",
    "```\n",
    "\n",
    "## Challenge\n",
    "\n",
    "* Examine the Character class inside character.py to find the name of the method which sets the conversation attribute\n",
    "* Add code to main.py to call this method and give Dave a line of dialogue\n",
    "* Add code to main.py to call a different method which talks to Dave\n",
    "\n",
    "So far, so good – we can use this code as the basis for our characters. However, not every character in the game will have the same characteristics. Some will be friends and some will be enemies, and they may behave differently.\n"
   ]
  },
  {
   "cell_type": "code",
   "execution_count": 1,
   "metadata": {
    "collapsed": true
   },
   "outputs": [],
   "source": [
    "# character.py\n",
    "\n",
    "class Character():\n",
    "    def __init__(self, char_name, char_description):\n",
    "        self.name = char_name\n",
    "        self.description = char_description\n",
    "        self.conversation = None\n"
   ]
  },
  {
   "cell_type": "code",
   "execution_count": 6,
   "metadata": {},
   "outputs": [
    {
     "name": "stdout",
     "output_type": "stream",
     "text": [
      "\n",
      "\n",
      "Big Kitchen\n",
      "-----------\n",
      "A dank and dirty room buzzing with flies. There is a stench of rotten meat.\n",
      "The Dining Hall is south\n",
      "> \n",
      "> south\n",
      "\n",
      "\n",
      "Dining Hall\n",
      "-----------\n",
      "A large room with ornate golden decorations on every wall.\n",
      "The Big Kitchen is north\n",
      "The Ballroom is west\n",
      "> bye\n",
      "Farewll, my hero.\n"
     ]
    }
   ],
   "source": [
    "# main.py\n",
    "from room import Room\n",
    "\n",
    "kitchen = Room(\"Kitchen\")\n",
    "kitchen.name = \"Big Kitchen\"\n",
    "kitchen.description = \"A dank and dirty room buzzing with flies. There is a stench of rotten meat.\"\n",
    "\n",
    "dining_hall = Room(\"Dining Hall\")\n",
    "dining_hall.description = \"A large room with ornate golden decorations on every wall.\"\n",
    "\n",
    "ballroom = Room(\"Ballroom\")\n",
    "ballroom.description = \"A vast room with a shiny wooden floor. Huge candlesticks guard the entrance\"\n",
    "\n",
    "kitchen.link_room(dining_hall, \"south\") \n",
    "dining_hall.link_room(kitchen, \"north\")\n",
    "dining_hall.link_room(ballroom, \"west\")\n",
    "ballroom.link_room(dining_hall, \"east\")\n",
    "\n",
    "current_room = kitchen\n",
    "\n",
    "                                                 # new\n",
    "from character import Character                  # new\n",
    "                                                 # new\n",
    "                                                 # new\n",
    "dave = Character(\"Dave\", \"A Smelly zombie\")      # new\n",
    "\n",
    "while True:\n",
    "    print(\"\\n\")\n",
    "    current_room.show()\n",
    "    command = input(\"> \")\n",
    "    if command.strip() == \"bye\":        # new\n",
    "        print(\"Farewll, my hero.\")      # new\n",
    "        break                           # new\n",
    "    elif command.strip() == \"\":         # new\n",
    "        command = input(\"> \")           # new\n",
    "    current_room = current_room.move(command)\n",
    "    \n"
   ]
  },
  {
   "cell_type": "code",
   "execution_count": null,
   "metadata": {
    "collapsed": true
   },
   "outputs": [],
   "source": []
  }
 ],
 "metadata": {
  "kernelspec": {
   "display_name": "Python 3",
   "language": "python",
   "name": "python3"
  },
  "language_info": {
   "codemirror_mode": {
    "name": "ipython",
    "version": 3
   },
   "file_extension": ".py",
   "mimetype": "text/x-python",
   "name": "python",
   "nbconvert_exporter": "python",
   "pygments_lexer": "ipython3",
   "version": "3.6.2"
  }
 },
 "nbformat": 4,
 "nbformat_minor": 2
}
