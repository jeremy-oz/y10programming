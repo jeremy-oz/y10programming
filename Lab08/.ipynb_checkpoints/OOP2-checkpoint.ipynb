{
 "cells": [
  {
   "cell_type": "markdown",
   "metadata": {},
   "source": [
    "# OOP Lesson 2\n",
    "\n",
    "# Welcome to Week 2 \n",
    "\n",
    "Last week we experimented with creating objects, setting attributes, and calling methods. We started our object-oriented programming journey by using classes that were already written. You can apply what you have learnt so far to create objects defined by any of the numerous free class implementations available on the internet. However, this week you will learn how to write your own classes in order to create custom objects.\n",
    "\n",
    "When we were designing this course at the Raspberry Pi Foundation, we discussed our experiences of learning about object-oriented programming. We agreed that the way we had learned best was by using objects to write a program that had a visible application, rather than by simply studying the theory of OOP. Therefore, we wanted the result of this course to be a program you can use and interact with in order to experience how objects make it work.\n",
    "Over the next three weeks we will learn how to create an object-oriented text-based adventure game.\n",
    "\n",
    "\n",
    "You can download two python files here but you are recommended to type them up yourself.\n",
    "[main.py](game1/main.py)\n",
    "[room.py](game1/room.py)"
   ]
  },
  {
   "cell_type": "markdown",
   "metadata": {},
   "source": [
    "# What's inside a class? \n",
    "\n",
    "A text-based adventure game is an interactive invented world described in text. It can be filled with different rooms, items, obstacles, or anything your imagination allows. The player interacts with the world by typing commands, and the game describes the result of the player’s commands.\n",
    "\n",
    "\n",
    "In the video you can see a preview of the parts of the game we will create this week. If you would like to test the game out for yourself, open this link in a new tab:\n",
    "Test the game you will make this week.\n",
    "\n",
    "An example of a room in your game might be a dining hall, described like this:\n",
    "```\n",
    "The Dining Hall\n",
    "-------------------\n",
    "A large room with ornate golden decorations on every wall.\n",
    "The Kitchen is north\n",
    "The Ballroom is west\n",
    "> \n",
    "```\n",
    "\n",
    "***Attributes*** are the pieces of information stored within an object, just like a collection of variables. What attributes do you think a room might have? For example, every room should have a name (e.g. kitchen, dining hall, etc.), so we will add an attribute called name.\n",
    "\n",
    "***Methods*** are the ways in which we interact with an object. For example, we used an on() method to light up an LED in our example from week 1. What methods do you think might be useful for interacting with a room? As an example, we need to be able to display the name of a room when the player enters it, so we might write a get_room() method.\n",
    "Think about the attributes and methods that rooms in general might have, and share your ideas by leaving a comment. Remember – there is no one correct answer!\n",
    "\n",
    "Since rooms have lots in common with each other, we can create a Room class to define the general properties a room should have. When we write code for the game, we will use the class to create lots of room objects and set the attributes to customise each room.\n",
    "\n",
    "This week we will create a Room class together.\n"
   ]
  },
  {
   "cell_type": "markdown",
   "metadata": {},
   "source": [
    "# Creating a constructor and defining attributes \n",
    "\n",
    "Let’s get started with writing our own class, which will be a blueprint for the rooms in our text-based adventure game. Begin by opening a new Python file and save it as room.py. If you are using Trinket, you can click the + symbol in the editor to create a new file.\n",
    "We create a class and give it a name like this:\n",
    "\n",
    "```\n",
    "class Room():\n",
    "```\n",
    "\n",
    "Our class is called Room since it will represent the concept of a room. We have deliberately given the class a name starting with a capital letter, because this helps us to distinguish between class names and variables.\n",
    "\n",
    "Move to the next line. If your editor has not done this for you, indent your cursor by pressing the tab key to tell Python that the code you are about to write is part of the Room class.\n",
    "\n",
    "Now we will add a constructor to our class. This is a special method to tell Python how to create an object of this class, and it is always called __init__ with a **double underscore** on each side of ‘init’. Take extra care to get this special method name right, or your constructor will not work!\n",
    "\n",
    "Code to define the constructor method looks like this:\n",
    "\n",
    "```\n",
    "def __init__(self):\n",
    "```\n",
    "\n",
    "`init` stands for *initialise*, since a constructor initalises – i.e. creates – an object.\n",
    "\n",
    "## Add attributes\n",
    "\n",
    "Now let’s add attributes for our room to the constructor. Perhaps the room should have a name – for example, it might be a kitchen, a bathroom, or a cellar. We could also store a description of the room to provide some atmosphere – the cellar could be dark and dusty, for instance. Add these attributes to your constructor method like this:\n",
    "\n",
    "```\n",
    "def __init__(self):\n",
    "    self.name = None\n",
    "    self.description = None\n",
    "```\n",
    "\n",
    "We always refer to attributes within the object in the format self.name_of_attribute to tell Python that we are referring to a piece of data within the object – self means “this object”. Setting the attribute values to None means that they will start off with no value.\n",
    "\n",
    "## Add parameters to the constructor\n",
    "\n",
    "Sometimes we want to allow people to set the values of these parameters when they use our class to create an object. Let’s add a parameter to the constructor called room_name by altering the existing code like this:\n",
    "\n",
    "```\n",
    "def __init__(self, name):\n",
    "```\n",
    "\n",
    "## Use parameters to set attributes\n",
    "\n",
    "This means that when we create an object, we must provide a room name. Now, change the code inside the constructor to tell Python to set the value of the attribute self.name to the name provided.\n",
    "\n",
    "```\n",
    "def __init__(self, name):\n",
    "    self.name = name\n",
    "```"
   ]
  },
  {
   "cell_type": "markdown",
   "metadata": {},
   "source": [
    "# Instantiating your own object \n",
    "\n",
    "<img width=\"500\" src=\"images/darcy-chambre-800px.png\" />\n",
    "\n",
    "Now that we have written some code, let’s test it out by creating an object of the Room class we have written.\n",
    "If you are using Trinket, you will already have a main.py file. If you are using a text editor, create a new Python file called **main.py** and save it in the same folder as the file **room.py**.\n",
    "\n",
    "## import room before using Room\n",
    "\n",
    "In the main.py file, add the following line of code:\n",
    "\n",
    "```\n",
    "from room import Room\n",
    "```\n",
    "\n",
    "This command looks for a file in the same folder called room.py, and looks inside that file for a class called Room (upper-case R) – this is the class we just wrote. It then makes that class available for use inside the main.py file. (If you did not save your room code as room.py, this will not work – in this case, you will need to rename the file.)\n",
    "We can now instantiate (create) a Room object like this:\n",
    "\n",
    "```\n",
    "kitchen = Room(“Kitchen”)\n",
    "```\n",
    "\n",
    "We are giving the object the name ‘kitchen’ so that we can refer to it later."
   ]
  },
  {
   "cell_type": "markdown",
   "metadata": {},
   "source": [
    "Get attributes and set attributes\n",
    "\n",
    "We want to be able to interact with our room object, we **could** write some getters and setters like in Java or C#. These are methods that get and set the values of the object’s attributes.\n",
    "\n",
    "Here is a method to set the description of the room:\n",
    "\n",
    "<strike> \n",
    "```\n",
    "def set_description(self, room_description):\n",
    "    self.description = room_description\n",
    "```\n",
    "</strike>\n",
    "\n",
    "Here is a method to get the description of the room:\n",
    "<strike> \n",
    "```\n",
    "def get_description(self):\n",
    "    return self.description \n",
    "```\n",
    "</strike> \n",
    "\n",
    "### But Python is more flexible so we don't need to.\n",
    "\n",
    "Just do this:\n",
    "```\n",
    "\n",
    "```\n",
    "\n",
    "\n"
   ]
  },
  {
   "cell_type": "code",
   "execution_count": 12,
   "metadata": {
    "collapsed": true
   },
   "outputs": [],
   "source": [
    "# setter\n",
    "kitchen.name = \"Big Kitchen\"\n",
    "kitchen.description = \"A dank and dirty room buzzing with flies. There is a stench of rotten meat.\""
   ]
  },
  {
   "cell_type": "code",
   "execution_count": 5,
   "metadata": {
    "collapsed": true
   },
   "outputs": [],
   "source": [
    "# getter\n",
    "where = kitchen.name\n",
    "what = kitchen.description "
   ]
  },
  {
   "cell_type": "markdown",
   "metadata": {},
   "source": [
    "We want to know the information of room more easily by calling a method *describe()*. Add this code to your **room.py**.\n",
    "\n",
    "```\n",
    "def describe(self): \n",
    "    print(f\"Here is {self.name}. {self.description}\")\n",
    "```\n",
    "\n",
    "Did you notice that the method we wrote had one arguments (self). The self argument is always given first when we write a method, but when we use a method, we do not have to give this argument to it. This is because it is automatically passed to the method when you use Python. It may work slightly differently for other programming languages.\n",
    "\n",
    "\n",
    "In **main.py**, change the code to call the describe() method, then run it to see the description appear.\n",
    "\n",
    "```\n",
    "kitchen.describe()\n",
    "```"
   ]
  },
  {
   "cell_type": "code",
   "execution_count": 10,
   "metadata": {
    "collapsed": true
   },
   "outputs": [],
   "source": [
    "# room.py\n",
    "\n",
    "class Room():\n",
    "    def __init__(self, room_name):\n",
    "        self.name = room_name\n",
    "        self.description = None\n",
    "\n",
    "    def describe(self):                                   # added\n",
    "        print(f\"Here is {self.name}. {self.description}\") # added"
   ]
  },
  {
   "cell_type": "code",
   "execution_count": 14,
   "metadata": {},
   "outputs": [
    {
     "name": "stdout",
     "output_type": "stream",
     "text": [
      "Here is Big Kitchen. A dank and dirty room buzzing with flies. There is a stench of rotten meat.\n"
     ]
    }
   ],
   "source": [
    "# main.py\n",
    "froom room import Room\n",
    "\n",
    "\n",
    "kitchen = Room(\"Kitchen\")\n",
    "kitchen.name = \"Big Kitchen\"\n",
    "kitchen.description = \"A dank and dirty room buzzing with flies. There is a stench of rotten meat.\"\n",
    "kitchen.describe()"
   ]
  },
  {
   "cell_type": "markdown",
   "metadata": {},
   "source": [
    "# Linking rooms \n",
    "\n",
    "\n",
    "\n",
    "In our game we would like to have lots of rooms, and so we need to add some attributes and methods to handle linking multiple room objects together.\n",
    "\n",
    "We will add a dictionary of all of the rooms which are linked to a Room object. You may not have encountered a dictionary data structure before. Dictionaries are similar to lists, but allow you to give each element a name. Here is an example of **a dictionary** that stores the winners of various medals:\n",
    "\n",
    "```\n",
    "winners = { \"gold\": \"Alex\", \"silver\": \"Brian\", \"bronze\": \"Clare\"}\n",
    "print( winners[\"gold\"] )\n",
    "\n",
    ">>> Alex\n",
    "```\n",
    "\n",
    "As you can see, we can ask the dictionary for a specific element by name. This will be useful in our adventure game, because we can ask for the room in a particular direction. For example, here is how we would refer to the room to the east:\n",
    "\n",
    "```\n",
    "self.linked_rooms[\"east\"]\n",
    "```\n",
    "\n",
    "Go back to your Room class, locate the attributes self.name and self.description and below them add a new attribute called linked_rooms. (in **room.py**)\n",
    "\n",
    "```\n",
    "self.linked_rooms = {}\n",
    "```\n",
    "\n",
    "Now let’s add a method to allow us to link rooms together.\n",
    "New methods are added below the other methods:\n",
    "\n",
    "Add the link_room method:\n",
    "\n",
    "```\n",
    "def link_room(self, room_to_link, direction):\n",
    "    self.linked_rooms[direction] = room_to_link\n",
    "```\n",
    "\n",
    "This method takes three parameters: the object itself (which we can ignore when we use the method), the room object to link to, and the relative direction of this object.\n",
    "\n",
    "Here is a diagram of how I would like my rooms to be laid out:\n",
    "\n",
    "<img src=\"images/2.1-Blueprint.png\">"
   ]
  },
  {
   "cell_type": "code",
   "execution_count": 19,
   "metadata": {
    "collapsed": true
   },
   "outputs": [],
   "source": [
    "# room.py\n",
    "class Room():\n",
    "    def __init__(self, room_name):\n",
    "        self.name = room_name\n",
    "        self.description = None\n",
    "        self.linked_rooms = {}   # added\n",
    "\n",
    "    def describe(self):\n",
    "        print(f\"Here is {self.name}; {self.description}\")\n",
    "\n",
    "    def link_room(self, room_to_link, direction):   # added\n",
    "        self.linked_rooms[direction] = room_to_link # added\n"
   ]
  },
  {
   "cell_type": "markdown",
   "metadata": {},
   "source": [
    "## Challenge\n",
    "* Go back to your main.py code. Underneath your existing code, create two more objects to represent the dining_hall and the ballroom\n",
    "* Set names and descriptions for all of your room objects\n",
    "\n"
   ]
  },
  {
   "cell_type": "code",
   "execution_count": 17,
   "metadata": {
    "collapsed": true
   },
   "outputs": [],
   "source": [
    "# main.py\n",
    "froom room import Room\n",
    "\n",
    "\n",
    "kitchen.name = \"Big Kitchen\"\n",
    "kitchen.description = \"A dank and dirty room buzzing with flies. There is a stench of rotten meat.\"\n",
    "\n",
    "dining_hall = Room(\"Dining Hall\") # added\n",
    "dining_hall.description = \"A large room with ornate golden decorations on every wall.\" #added\n",
    "\n",
    "ballroom = Room(\"Ballroom\") # added\n",
    "ballroom.description = \"A vast room with a shiny wooden floor. Huge candlesticks guard the entrance\" # added"
   ]
  },
  {
   "cell_type": "markdown",
   "metadata": {},
   "source": [
    "## Link the rooms together\n",
    "\n",
    "The dining hall is to the south of the kitchen, so I am going to use the link_room method on the kitchen object in my **main.py** file, like this:\n",
    "\n",
    "```\n",
    "kitchen.link_room(dining_hall, \"south\")\n",
    "```"
   ]
  },
  {
   "cell_type": "code",
   "execution_count": 21,
   "metadata": {
    "collapsed": true
   },
   "outputs": [],
   "source": [
    "# main.py\n",
    "froom room import Room\n",
    "\n",
    "\n",
    "kitchen = Room(\"Kitchen\")\n",
    "kitchen.name = \"Big Kitchen\"\n",
    "kitchen.description = \"A dank and dirty room buzzing with flies. There is a stench of rotten meat.\"\n",
    "\n",
    "dining_hall = Room(\"Dining Hall\")\n",
    "dining_hall.description = \"A large room with ornate golden decorations on every wall.\"\n",
    "\n",
    "ballroom = Room(\"Ballroom\")\n",
    "ballroom.description = \"A vast room with a shiny wooden floor. Huge candlesticks guard the entrance\"\n",
    "\n",
    "kitchen.link_room(dining_hall, \"south\") # added\n",
    "dining_hall.link_room(kitchen, \"north\") # added\n",
    "dining_hall.link_room(ballroom, \"west\") # added\n",
    "ballroom.link_room(dining_hall, \"east\") # added"
   ]
  },
  {
   "cell_type": "markdown",
   "metadata": {},
   "source": [
    "# See inside the dictionary\n",
    "\n",
    "If you would like to see what’s inside the dictionary, add this line of code inside the link_room method in room.py to display the contents of the dictionary:\n",
    "\n",
    "```\n",
    "print( self.name + \" linked rooms :\" + repr(self.linked_rooms))\n",
    "\n",
    "```\n",
    "\n",
    "\n",
    "If you run the **main.py** code, you will see something similar to this:\n",
    "Kitchen linked rooms :{'south': <room.Room object at 0x03A22770>}\n",
    "This code is not necessary for the game – I am just using it to show you how the dictionary gets built up. Comment it out by putting a # at the start of the line when you have seen how it works.\n",
    "Challenge\n"
   ]
  },
  {
   "cell_type": "code",
   "execution_count": 22,
   "metadata": {},
   "outputs": [
    {
     "name": "stdout",
     "output_type": "stream",
     "text": [
      "{'south': <__main__.Room object at 0x107834e80>}\n"
     ]
    }
   ],
   "source": [
    "print(kitchen.linked_rooms)"
   ]
  },
  {
   "cell_type": "markdown",
   "metadata": {},
   "source": [
    "# Displaying rooms \n",
    "\n",
    "This was our original example showing how a room description might look in the game:\n",
    "\n",
    "```\n",
    "The Dining Hall\n",
    "-------------------\n",
    "A large room with ornate golden decorations on every wall\n",
    "The Kitchen is north\n",
    "The Ballroom is west\n",
    "```\n",
    "\n",
    "Let’s add a new method to the Room class to report the room name, description, and the directions of all the rooms connected to it. \n",
    "\n",
    "Go back to the **room.py** file and, below the link_room method, add a new method which will display all of the rooms linked to the current room object. Don’t forget to make sure the new method is indented, just like all the other methods.\n",
    "\n",
    "```\n",
    "def show(self):\n",
    "    for direction in self.linked_rooms:\n",
    "        room = self.linked_rooms[direction]\n",
    "        print(f\"The {room.name} is {direction}\")\n",
    "```\n",
    "\n",
    "This method loops through the dictionary self.linked_rooms and, for every defined direction, prints out that direction and the name of the room in that direction.\n",
    "\n",
    "Go back to the **main.py** file and, at the bottom of your script, call this method on the dining hall object, then run the code to see the two rooms linked to the dining hall.\n",
    "\n",
    "dining_hall.show_doors()\n",
    "\n"
   ]
  },
  {
   "cell_type": "code",
   "execution_count": 32,
   "metadata": {
    "collapsed": true
   },
   "outputs": [],
   "source": [
    "# room.py\n",
    "class Room():\n",
    "    def __init__(self, room_name):\n",
    "        self.name = room_name\n",
    "        self.description = None\n",
    "        self.linked_rooms = {}\n",
    "\n",
    "    def describe(self):\n",
    "        print(f\"Here is {self.name}; {self.description}\")\n",
    "\n",
    "    def link_room(self, room_to_link, direction):\n",
    "        self.linked_rooms[direction] = room_to_link\n",
    "    \n",
    "    def show(self):                                  # added\n",
    "        for direction in self.linked_rooms:          # added\n",
    "            room = self.linked_rooms[direction]      # added\n",
    "            print(f\"The {room.name} is {direction}\") # added"
   ]
  },
  {
   "cell_type": "code",
   "execution_count": 33,
   "metadata": {},
   "outputs": [
    {
     "name": "stdout",
     "output_type": "stream",
     "text": [
      "The Big Kitchen is north\n",
      "The Ballroom is west\n"
     ]
    }
   ],
   "source": [
    "# main.py\n",
    "froom room import Room\n",
    "\n",
    "\n",
    "kitchen = Room(\"Kitchen\")\n",
    "kitchen.name = \"Big Kitchen\"\n",
    "kitchen.description = \"A dank and dirty room buzzing with flies. There is a stench of rotten meat.\"\n",
    "\n",
    "dining_hall = Room(\"Dining Hall\")\n",
    "dining_hall.description = \"A large room with ornate golden decorations on every wall.\"\n",
    "\n",
    "ballroom = Room(\"Ballroom\")\n",
    "ballroom.description = \"A vast room with a shiny wooden floor. Huge candlesticks guard the entrance\"\n",
    "\n",
    "kitchen.link_room(dining_hall, \"south\") \n",
    "dining_hall.link_room(kitchen, \"north\")\n",
    "dining_hall.link_room(ballroom, \"west\")\n",
    "ballroom.link_room(dining_hall, \"east\")\n",
    "\n",
    "dining_hall.show()"
   ]
  },
  {
   "cell_type": "markdown",
   "metadata": {},
   "source": [
    "# Challenge\n",
    "\n",
    "* Add some code to the **show()** method so that it also prints out the name and description of the current room, as in our original example. Remember that we can refer to the current room as self inside the method.\n",
    "\n",
    "```\n",
    "The Dining Hall\n",
    "-------------------\n",
    "A large room with ornate golden decorations on every wall\n",
    "The Kitchen is north\n",
    "The Ballroom is west\n",
    "```\n",
    "\n",
    "* Check that your **show()** method works for any room object by calling it on the kitchen and ballroom as well.\n",
    "* Answer below.\n"
   ]
  },
  {
   "cell_type": "code",
   "execution_count": 35,
   "metadata": {
    "collapsed": true
   },
   "outputs": [],
   "source": [
    "# room.py\n",
    "class Room():\n",
    "    def __init__(self, room_name):\n",
    "        self.name = room_name\n",
    "        self.description = None\n",
    "        self.linked_rooms = {}\n",
    "\n",
    "    def describe(self):\n",
    "        print(f\"Here is {self.name}; {self.description}\")\n",
    "\n",
    "    def link_room(self, room_to_link, direction):\n",
    "        self.linked_rooms[direction] = room_to_link\n",
    "    \n",
    "    def show(self):\n",
    "        print(self.name)            # answer\n",
    "        print(\"-\" * len(self.name)) # answer\n",
    "        print(self.description)     # answer\n",
    "        for direction in self.linked_rooms:\n",
    "            room = self.linked_rooms[direction]\n",
    "            print(f\"The {room.name} is {direction}\")"
   ]
  },
  {
   "cell_type": "code",
   "execution_count": 36,
   "metadata": {},
   "outputs": [
    {
     "name": "stdout",
     "output_type": "stream",
     "text": [
      "Dining Hall\n",
      "-----------\n",
      "A large room with ornate golden decorations on every wall.\n",
      "The Big Kitchen is north\n",
      "The Ballroom is west\n"
     ]
    }
   ],
   "source": [
    "# same \n",
    "# main.py\n",
    "froom room import Room\n",
    "\n",
    "\n",
    "kitchen = Room(\"Kitchen\")\n",
    "kitchen.name = \"Big Kitchen\"\n",
    "kitchen.description = \"A dank and dirty room buzzing with flies. There is a stench of rotten meat.\"\n",
    "\n",
    "dining_hall = Room(\"Dining Hall\")\n",
    "dining_hall.description = \"A large room with ornate golden decorations on every wall.\"\n",
    "\n",
    "ballroom = Room(\"Ballroom\")\n",
    "ballroom.description = \"A vast room with a shiny wooden floor. Huge candlesticks guard the entrance\"\n",
    "\n",
    "kitchen.link_room(dining_hall, \"south\") \n",
    "dining_hall.link_room(kitchen, \"north\")\n",
    "dining_hall.link_room(ballroom, \"west\")\n",
    "ballroom.link_room(dining_hall, \"east\")\n",
    "\n",
    "dining_hall.show()"
   ]
  },
  {
   "cell_type": "markdown",
   "metadata": {},
   "source": [
    "# Moving between rooms \n",
    "\n",
    "Finally, let’s add a method to allow the player to move between rooms.\n",
    "\n",
    "<img src=\"images/2.1-Blueprint.png\">\n",
    "\n",
    "Go to the **room.py** file and add another method below the show() method. This move method has a parameter for the direction in which the player would like to move. If this direction is one of the directions linked to, the method returns the room object that is in that direction. If there is no room in the dictionary in that direction, the method returns self – i.e. the player is linked back to the room they were already in!\n",
    "\n",
    "```\n",
    "def move(self, direction):\n",
    "    if direction in self.linked_rooms:\n",
    "        return self.linked_rooms[direction]\n",
    "    else:\n",
    "        print(\"You can't go that way\")\n",
    "        return self\n",
    "```\n",
    "\n"
   ]
  },
  {
   "cell_type": "code",
   "execution_count": 37,
   "metadata": {
    "collapsed": true
   },
   "outputs": [],
   "source": [
    "# room.py\n",
    "class Room():\n",
    "    def __init__(self, room_name):\n",
    "        self.name = room_name\n",
    "        self.description = None\n",
    "        self.linked_rooms = {}\n",
    "\n",
    "    def describe(self):\n",
    "        print(f\"Here is {self.name}; {self.description}\")\n",
    "\n",
    "    def link_room(self, room_to_link, direction):\n",
    "        self.linked_rooms[direction] = room_to_link\n",
    "    \n",
    "    def show(self):\n",
    "        print(self.name)\n",
    "        print(\"-\" * len(self.name))\n",
    "        print(self.description)\n",
    "        for direction in self.linked_rooms:\n",
    "            room = self.linked_rooms[direction]\n",
    "            print(f\"The {room.name} is {direction}\")\n",
    "            \n",
    "\n",
    "    def move(self, direction):                      # new\n",
    "        if direction in self.linked_rooms:          # new\n",
    "            return self.linked_rooms[direction]     # new\n",
    "        else:                                       # new\n",
    "            print(\"You can't go that way\")          # new\n",
    "            return self                             # new"
   ]
  },
  {
   "cell_type": "code",
   "execution_count": 38,
   "metadata": {
    "collapsed": true
   },
   "outputs": [],
   "source": [
    "# main.py\n",
    "froom room import Room\n",
    "\n",
    "\n",
    "kitchen = Room(\"Kitchen\")\n",
    "kitchen.name = \"Big Kitchen\"\n",
    "kitchen.description = \"A dank and dirty room buzzing with flies. There is a stench of rotten meat.\"\n",
    "\n",
    "dining_hall = Room(\"Dining Hall\")\n",
    "dining_hall.description = \"A large room with ornate golden decorations on every wall.\"\n",
    "\n",
    "ballroom = Room(\"Ballroom\")\n",
    "ballroom.description = \"A vast room with a shiny wooden floor. Huge candlesticks guard the entrance\"\n",
    "\n",
    "kitchen.link_room(dining_hall, \"south\") \n",
    "dining_hall.link_room(kitchen, \"north\")\n",
    "dining_hall.link_room(ballroom, \"west\")\n",
    "ballroom.link_room(dining_hall, \"east\")\n"
   ]
  },
  {
   "cell_type": "code",
   "execution_count": 44,
   "metadata": {},
   "outputs": [
    {
     "name": "stdout",
     "output_type": "stream",
     "text": [
      "Dining Hall\n",
      "-----------\n",
      "A large room with ornate golden decorations on every wall.\n",
      "The Big Kitchen is north\n",
      "The Ballroom is west\n"
     ]
    }
   ],
   "source": [
    "new_room1 = kitchen.move(\"south\")\n",
    "new_room1.show()"
   ]
  },
  {
   "cell_type": "code",
   "execution_count": 45,
   "metadata": {},
   "outputs": [
    {
     "name": "stdout",
     "output_type": "stream",
     "text": [
      "You can't go that way\n"
     ]
    }
   ],
   "source": [
    "new_room2 = kitchen.move(\"north\")"
   ]
  },
  {
   "cell_type": "markdown",
   "metadata": {},
   "source": [
    "Add some code at the bottom of the script to create a loop, letting the player move between rooms.\n",
    "current_room = kitchen          \n",
    "\n",
    "```\n",
    "while True:\n",
    "    print(\"\\n\")         \n",
    "    current_room.show()         \n",
    "    command = input(\"> \")    \n",
    "    current_room = current_room.move(command)  \n",
    "```\n",
    "\n",
    "Save and run your program. Type in some directions (e.g. “south”) to move between rooms. Don’t forget to also try directions that won’t work to see whether your game handles these correctly.\n"
   ]
  },
  {
   "cell_type": "code",
   "execution_count": 47,
   "metadata": {},
   "outputs": [
    {
     "name": "stdout",
     "output_type": "stream",
     "text": [
      "\n",
      "\n",
      "Big Kitchen\n",
      "-----------\n",
      "A dank and dirty room buzzing with flies. There is a stench of rotten meat.\n",
      "The Dining Hall is south\n",
      "> south\n",
      "\n",
      "\n",
      "Dining Hall\n",
      "-----------\n",
      "A large room with ornate golden decorations on every wall.\n",
      "The Big Kitchen is north\n",
      "The Ballroom is west\n",
      "> west\n",
      "\n",
      "\n",
      "Ballroom\n",
      "--------\n",
      "A vast room with a shiny wooden floor. Huge candlesticks guard the entrance\n",
      "The Dining Hall is east\n",
      "> south\n",
      "You can't go that way\n",
      "\n",
      "\n",
      "Ballroom\n",
      "--------\n",
      "A vast room with a shiny wooden floor. Huge candlesticks guard the entrance\n",
      "The Dining Hall is east\n",
      "> east\n",
      "\n",
      "\n",
      "Dining Hall\n",
      "-----------\n",
      "A large room with ornate golden decorations on every wall.\n",
      "The Big Kitchen is north\n",
      "The Ballroom is west\n"
     ]
    },
    {
     "ename": "KeyboardInterrupt",
     "evalue": "",
     "output_type": "error",
     "traceback": [
      "\u001b[0;31m---------------------------------------------------------------------------\u001b[0m",
      "\u001b[0;31mKeyboardInterrupt\u001b[0m                         Traceback (most recent call last)",
      "\u001b[0;32m/Users/apple/anaconda/lib/python3.6/site-packages/ipykernel/kernelbase.py\u001b[0m in \u001b[0;36m_input_request\u001b[0;34m(self, prompt, ident, parent, password)\u001b[0m\n\u001b[1;32m    729\u001b[0m             \u001b[0;32mtry\u001b[0m\u001b[0;34m:\u001b[0m\u001b[0;34m\u001b[0m\u001b[0m\n\u001b[0;32m--> 730\u001b[0;31m                 \u001b[0mident\u001b[0m\u001b[0;34m,\u001b[0m \u001b[0mreply\u001b[0m \u001b[0;34m=\u001b[0m \u001b[0mself\u001b[0m\u001b[0;34m.\u001b[0m\u001b[0msession\u001b[0m\u001b[0;34m.\u001b[0m\u001b[0mrecv\u001b[0m\u001b[0;34m(\u001b[0m\u001b[0mself\u001b[0m\u001b[0;34m.\u001b[0m\u001b[0mstdin_socket\u001b[0m\u001b[0;34m,\u001b[0m \u001b[0;36m0\u001b[0m\u001b[0;34m)\u001b[0m\u001b[0;34m\u001b[0m\u001b[0m\n\u001b[0m\u001b[1;32m    731\u001b[0m             \u001b[0;32mexcept\u001b[0m \u001b[0mException\u001b[0m\u001b[0;34m:\u001b[0m\u001b[0;34m\u001b[0m\u001b[0m\n",
      "\u001b[0;32m/Users/apple/anaconda/lib/python3.6/site-packages/jupyter_client/session.py\u001b[0m in \u001b[0;36mrecv\u001b[0;34m(self, socket, mode, content, copy)\u001b[0m\n\u001b[1;32m    777\u001b[0m         \u001b[0;32mtry\u001b[0m\u001b[0;34m:\u001b[0m\u001b[0;34m\u001b[0m\u001b[0m\n\u001b[0;32m--> 778\u001b[0;31m             \u001b[0mmsg_list\u001b[0m \u001b[0;34m=\u001b[0m \u001b[0msocket\u001b[0m\u001b[0;34m.\u001b[0m\u001b[0mrecv_multipart\u001b[0m\u001b[0;34m(\u001b[0m\u001b[0mmode\u001b[0m\u001b[0;34m,\u001b[0m \u001b[0mcopy\u001b[0m\u001b[0;34m=\u001b[0m\u001b[0mcopy\u001b[0m\u001b[0;34m)\u001b[0m\u001b[0;34m\u001b[0m\u001b[0m\n\u001b[0m\u001b[1;32m    779\u001b[0m         \u001b[0;32mexcept\u001b[0m \u001b[0mzmq\u001b[0m\u001b[0;34m.\u001b[0m\u001b[0mZMQError\u001b[0m \u001b[0;32mas\u001b[0m \u001b[0me\u001b[0m\u001b[0;34m:\u001b[0m\u001b[0;34m\u001b[0m\u001b[0m\n",
      "\u001b[0;32m/Users/apple/anaconda/lib/python3.6/site-packages/zmq/sugar/socket.py\u001b[0m in \u001b[0;36mrecv_multipart\u001b[0;34m(self, flags, copy, track)\u001b[0m\n\u001b[1;32m    394\u001b[0m         \"\"\"\n\u001b[0;32m--> 395\u001b[0;31m         \u001b[0mparts\u001b[0m \u001b[0;34m=\u001b[0m \u001b[0;34m[\u001b[0m\u001b[0mself\u001b[0m\u001b[0;34m.\u001b[0m\u001b[0mrecv\u001b[0m\u001b[0;34m(\u001b[0m\u001b[0mflags\u001b[0m\u001b[0;34m,\u001b[0m \u001b[0mcopy\u001b[0m\u001b[0;34m=\u001b[0m\u001b[0mcopy\u001b[0m\u001b[0;34m,\u001b[0m \u001b[0mtrack\u001b[0m\u001b[0;34m=\u001b[0m\u001b[0mtrack\u001b[0m\u001b[0;34m)\u001b[0m\u001b[0;34m]\u001b[0m\u001b[0;34m\u001b[0m\u001b[0m\n\u001b[0m\u001b[1;32m    396\u001b[0m         \u001b[0;31m# have first part already, only loop while more to receive\u001b[0m\u001b[0;34m\u001b[0m\u001b[0;34m\u001b[0m\u001b[0m\n",
      "\u001b[0;32mzmq/backend/cython/socket.pyx\u001b[0m in \u001b[0;36mzmq.backend.cython.socket.Socket.recv (zmq/backend/cython/socket.c:7683)\u001b[0;34m()\u001b[0m\n",
      "\u001b[0;32mzmq/backend/cython/socket.pyx\u001b[0m in \u001b[0;36mzmq.backend.cython.socket.Socket.recv (zmq/backend/cython/socket.c:7460)\u001b[0;34m()\u001b[0m\n",
      "\u001b[0;32mzmq/backend/cython/socket.pyx\u001b[0m in \u001b[0;36mzmq.backend.cython.socket._recv_copy (zmq/backend/cython/socket.c:2344)\u001b[0;34m()\u001b[0m\n",
      "\u001b[0;32m/Users/apple/anaconda/lib/python3.6/site-packages/zmq/backend/cython/checkrc.pxd\u001b[0m in \u001b[0;36mzmq.backend.cython.checkrc._check_rc (zmq/backend/cython/socket.c:9621)\u001b[0;34m()\u001b[0m\n",
      "\u001b[0;31mKeyboardInterrupt\u001b[0m: ",
      "\nDuring handling of the above exception, another exception occurred:\n",
      "\u001b[0;31mKeyboardInterrupt\u001b[0m                         Traceback (most recent call last)",
      "\u001b[0;32m<ipython-input-47-04663e2d62b1>\u001b[0m in \u001b[0;36m<module>\u001b[0;34m()\u001b[0m\n\u001b[1;32m     20\u001b[0m     \u001b[0mprint\u001b[0m\u001b[0;34m(\u001b[0m\u001b[0;34m\"\\n\"\u001b[0m\u001b[0;34m)\u001b[0m                                     \u001b[0;31m# new\u001b[0m\u001b[0;34m\u001b[0m\u001b[0m\n\u001b[1;32m     21\u001b[0m     \u001b[0mcurrent_room\u001b[0m\u001b[0;34m.\u001b[0m\u001b[0mshow\u001b[0m\u001b[0;34m(\u001b[0m\u001b[0;34m)\u001b[0m                             \u001b[0;31m# new\u001b[0m\u001b[0;34m\u001b[0m\u001b[0m\n\u001b[0;32m---> 22\u001b[0;31m     \u001b[0mcommand\u001b[0m \u001b[0;34m=\u001b[0m \u001b[0minput\u001b[0m\u001b[0;34m(\u001b[0m\u001b[0;34m\"> \"\u001b[0m\u001b[0;34m)\u001b[0m                           \u001b[0;31m# new\u001b[0m\u001b[0;34m\u001b[0m\u001b[0m\n\u001b[0m\u001b[1;32m     23\u001b[0m     \u001b[0mcurrent_room\u001b[0m \u001b[0;34m=\u001b[0m \u001b[0mcurrent_room\u001b[0m\u001b[0;34m.\u001b[0m\u001b[0mmove\u001b[0m\u001b[0;34m(\u001b[0m\u001b[0mcommand\u001b[0m\u001b[0;34m)\u001b[0m       \u001b[0;31m# new\u001b[0m\u001b[0;34m\u001b[0m\u001b[0m\n",
      "\u001b[0;32m/Users/apple/anaconda/lib/python3.6/site-packages/ipykernel/kernelbase.py\u001b[0m in \u001b[0;36mraw_input\u001b[0;34m(self, prompt)\u001b[0m\n\u001b[1;32m    703\u001b[0m             \u001b[0mself\u001b[0m\u001b[0;34m.\u001b[0m\u001b[0m_parent_ident\u001b[0m\u001b[0;34m,\u001b[0m\u001b[0;34m\u001b[0m\u001b[0m\n\u001b[1;32m    704\u001b[0m             \u001b[0mself\u001b[0m\u001b[0;34m.\u001b[0m\u001b[0m_parent_header\u001b[0m\u001b[0;34m,\u001b[0m\u001b[0;34m\u001b[0m\u001b[0m\n\u001b[0;32m--> 705\u001b[0;31m             \u001b[0mpassword\u001b[0m\u001b[0;34m=\u001b[0m\u001b[0;32mFalse\u001b[0m\u001b[0;34m,\u001b[0m\u001b[0;34m\u001b[0m\u001b[0m\n\u001b[0m\u001b[1;32m    706\u001b[0m         )\n\u001b[1;32m    707\u001b[0m \u001b[0;34m\u001b[0m\u001b[0m\n",
      "\u001b[0;32m/Users/apple/anaconda/lib/python3.6/site-packages/ipykernel/kernelbase.py\u001b[0m in \u001b[0;36m_input_request\u001b[0;34m(self, prompt, ident, parent, password)\u001b[0m\n\u001b[1;32m    733\u001b[0m             \u001b[0;32mexcept\u001b[0m \u001b[0mKeyboardInterrupt\u001b[0m\u001b[0;34m:\u001b[0m\u001b[0;34m\u001b[0m\u001b[0m\n\u001b[1;32m    734\u001b[0m                 \u001b[0;31m# re-raise KeyboardInterrupt, to truncate traceback\u001b[0m\u001b[0;34m\u001b[0m\u001b[0;34m\u001b[0m\u001b[0m\n\u001b[0;32m--> 735\u001b[0;31m                 \u001b[0;32mraise\u001b[0m \u001b[0mKeyboardInterrupt\u001b[0m\u001b[0;34m\u001b[0m\u001b[0m\n\u001b[0m\u001b[1;32m    736\u001b[0m             \u001b[0;32melse\u001b[0m\u001b[0;34m:\u001b[0m\u001b[0;34m\u001b[0m\u001b[0m\n\u001b[1;32m    737\u001b[0m                 \u001b[0;32mbreak\u001b[0m\u001b[0;34m\u001b[0m\u001b[0m\n",
      "\u001b[0;31mKeyboardInterrupt\u001b[0m: "
     ]
    }
   ],
   "source": [
    "# main.py\n",
    "froom room import Room\n",
    "\n",
    "\n",
    "kitchen = Room(\"Kitchen\")\n",
    "kitchen.name = \"Big Kitchen\"\n",
    "kitchen.description = \"A dank and dirty room buzzing with flies. There is a stench of rotten meat.\"\n",
    "\n",
    "dining_hall = Room(\"Dining Hall\")\n",
    "dining_hall.description = \"A large room with ornate golden decorations on every wall.\"\n",
    "\n",
    "ballroom = Room(\"Ballroom\")\n",
    "ballroom.description = \"A vast room with a shiny wooden floor. Huge candlesticks guard the entrance\"\n",
    "\n",
    "kitchen.link_room(dining_hall, \"south\") \n",
    "dining_hall.link_room(kitchen, \"north\")\n",
    "dining_hall.link_room(ballroom, \"west\")\n",
    "ballroom.link_room(dining_hall, \"east\")\n",
    "\n",
    "current_room = kitchen                              # new\n",
    "                                                    # new\n",
    "while True:                                         # new\n",
    "    print(\"\\n\")                                     # new\n",
    "    current_room.show()                             # new\n",
    "    command = input(\"> \")                           # new\n",
    "    current_room = current_room.move(command)       # new\n",
    "    \n",
    "# You need to press Ctrl-C to stop the game and it spits out a lot of errors. \n",
    "# Not very elegant. We will fix this later."
   ]
  },
  {
   "cell_type": "markdown",
   "metadata": {},
   "source": [
    "# A better way to say bye"
   ]
  },
  {
   "cell_type": "code",
   "execution_count": 1,
   "metadata": {},
   "outputs": [
    {
     "name": "stdout",
     "output_type": "stream",
     "text": [
      "\n",
      "\n",
      "Big Kitchen\n",
      "-----------\n",
      "A dank and dirty room buzzing with flies. There is a stench of rotten meat.\n",
      "The Dining Hall is south\n",
      "> south\n",
      "\n",
      "\n",
      "Dining Hall\n",
      "-----------\n",
      "A large room with ornate golden decorations on every wall.\n",
      "The Big Kitchen is north\n",
      "The Ballroom is west\n",
      "> west\n",
      "\n",
      "\n",
      "Ballroom\n",
      "--------\n",
      "A vast room with a shiny wooden floor. Huge candlesticks guard the entrance\n",
      "The Dining Hall is east\n",
      "> bye\n",
      "Farewll, my hero.\n"
     ]
    }
   ],
   "source": [
    "# main.py\n",
    "from room import Room\n",
    "\n",
    "kitchen = Room(\"Kitchen\")\n",
    "kitchen.name = \"Big Kitchen\"\n",
    "kitchen.description = \"A dank and dirty room buzzing with flies. There is a stench of rotten meat.\"\n",
    "\n",
    "dining_hall = Room(\"Dining Hall\")\n",
    "dining_hall.description = \"A large room with ornate golden decorations on every wall.\"\n",
    "\n",
    "ballroom = Room(\"Ballroom\")\n",
    "ballroom.description = \"A vast room with a shiny wooden floor. Huge candlesticks guard the entrance\"\n",
    "\n",
    "kitchen.link_room(dining_hall, \"south\") \n",
    "dining_hall.link_room(kitchen, \"north\")\n",
    "dining_hall.link_room(ballroom, \"west\")\n",
    "ballroom.link_room(dining_hall, \"east\")\n",
    "\n",
    "current_room = kitchen\n",
    "\n",
    "while True:\n",
    "    print(\"\\n\")\n",
    "    current_room.show()\n",
    "    command = input(\"> \")\n",
    "    if command.strip() == \"bye\":        # new\n",
    "        print(\"Farewll, my hero.\")      # new\n",
    "        break                           # new\n",
    "    elif command.strip() == \"\":         # new\n",
    "        command = input(\"> \")           # new\n",
    "    current_room = current_room.move(command)"
   ]
  },
  {
   "cell_type": "markdown",
   "metadata": {},
   "source": [
    "# Recap Week 2 \n",
    "\n",
    "This week we looked at writing our own class, instantiating objects of that class with custom attribute values, and using the object’s methods to interact with it.\n",
    "\n",
    "A **class** is like a blueprint for creating an object.\n",
    "\n",
    "To create an **object** using our class, we call a special method named the **constructor**. Instantiating an object of a class is a bit like saying, “Hey Python, you remember that blueprint I gave you? Well, I’d like you to use it to make one object.”\n",
    "\n",
    "We need our object to have **attributes** – these are pieces of data stored inside the object. Assigning an object’s attributes is a bit like taking several variables, each with its own name, and grouping them together with the object. So, inside the constructor we define what attributes our object has, and what their starting values will be. In our example, each room object has a name, a description, and a dictionary of rooms linked to it.\n",
    "\n",
    "The object must also have **methods** – ways for us to tell it what to do. Imagine writing methods as taking several functions, each with its own name, and making them available for use on the object. So, inside the class we define various methods for interacting with the object. In our example, we defined some ‘getters’ and ‘setters’, and also methods to move between rooms and print out the details of each room.\n",
    "\n",
    "Finally, each object we create is called an **instance** of its class, so each room object we made was an instance of Room.\n",
    "\n",
    "Next week we will look at using code from classes written by other people, and extending their code to specialise objects for our own purpose. We will look at the concepts of inheritance and polymorphism, and use them in the context of our text-based adventure game to create enemies for the player to encounter.\n",
    "\n",
    "## Glossary\n",
    "\n",
    "* Constructor – a special method to tell Python how to create an object of this class: in Python, the constructor method is always called __init__ with a double underscore on each side of ‘init’\n",
    "* Dictionary – similar to a list, but allows you to give each element a name\n",
    "* Element – one item in a dictionary\n",
    "* Getter – a method whose purpose it is to get a value from within an object (we don't need a method to do it in Python)\n",
    "* Instantiate – create an object of a particular class\n",
    "* Parameter – a way of providing data so that it can be used within a method\n",
    "* self – used within the code for an object to mean ‘this object’\n"
   ]
  },
  {
   "cell_type": "markdown",
   "metadata": {},
   "source": [
    "# Now do the Quiz OOP 2 https://goo.gl/forms/gbaYoHFkSpPqQ6qi1"
   ]
  },
  {
   "cell_type": "code",
   "execution_count": null,
   "metadata": {
    "collapsed": true
   },
   "outputs": [],
   "source": []
  }
 ],
 "metadata": {
  "kernelspec": {
   "display_name": "Python 3",
   "language": "python",
   "name": "python3"
  },
  "language_info": {
   "codemirror_mode": {
    "name": "ipython",
    "version": 3
   },
   "file_extension": ".py",
   "mimetype": "text/x-python",
   "name": "python",
   "nbconvert_exporter": "python",
   "pygments_lexer": "ipython3",
   "version": "3.6.2"
  }
 },
 "nbformat": 4,
 "nbformat_minor": 2
}
