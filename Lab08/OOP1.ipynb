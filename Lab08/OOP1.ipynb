{
 "cells": [
  {
   "cell_type": "markdown",
   "metadata": {},
   "source": [
    "# OOP Lesson 1\n",
    "\n",
    "What is OOP (Object Oriented Programming)?\n",
    "\n",
    "It is a new way to think about problems.\n"
   ]
  },
  {
   "cell_type": "markdown",
   "metadata": {},
   "source": [
    "## Example: GUI\n",
    "\n",
    "GUI (Graphic User Interface) is usually a best example of using OOP.\n",
    "\n",
    "\n",
    "Here is an example to show how objects are used in a program – to represent buttons on an interface. This is just a demonstration of the principle.\n",
    "\n",
    "\n",
    "To create the buttons, we create two objects of the class PushButton named button1 and button2:\n",
    "\n",
    "Key concept:\n",
    "Each button is now an object in the programming sense, and you can see that each button is shown as a rectangle, giving us a visual representation of the button object.\n",
    "\n",
    "```\n",
    "button1 = Button(root, text=\"Tea\")\n",
    "button2 = Button(root, text=\"Coffee\")\n",
    "```\n",
    "\n",
    "<img src=\"images/gui_ex1.png\" width=300>\n",
    "\n",
    "Try a live code below:\n"
   ]
  },
  {
   "cell_type": "code",
   "execution_count": null,
   "metadata": {
    "collapsed": true
   },
   "outputs": [],
   "source": [
    "# %load gui_ex1.py\n",
    "from tkinter import *\n",
    "\n",
    "def main():\n",
    "    root = Tk()\n",
    "    root.title('Student Survey')\n",
    "    label = Label(root, text='Do you prefer tea or coffee?')\n",
    "    button1 = Button(root, text='Tea')\n",
    "    button2 = Button(root, text='Coffee')\n",
    "    label.pack()\n",
    "    button1.pack()\n",
    "    button2.pack()\n",
    "    root.mainloop()\n",
    "\n",
    "if __name__ == '__main__':\n",
    "    main()\n"
   ]
  },
  {
   "cell_type": "markdown",
   "metadata": {},
   "source": [
    "# Turtle Race\n",
    "<img src=\"images/1.4-turtle-race.png\">\n",
    "\n",
    "Let’s have a go at writing a program using objects. We will use Python’s turtle module, which should be included when you install Python. You can complete almost all of the activities in this course in a web browser by creating a free Trinket account.\n",
    "\n",
    "First, we need to ask Python to import the Turtle class, which is like a blueprint for making a turtle. We will look at what a class is in more detail later on in the course – for now, use this code:\n",
    "\n",
    "```\n",
    "from turtle import Turtle\n",
    "```\n",
    "\n",
    "If you are using a text editor, save your code as turtle_race.py - or at least ensure you do not call your file `turtle.py` otherwise the code will try to import itself and will not work.\n",
    "\n",
    "Next, we will create an instance of a Turtle object. I’m going to name my Turtle object ‘laura’ because I’m going to get my turtle to race against some of the Raspberry Pi team. You can give your turtle whatever name you like.\n",
    "\n",
    "```\n",
    "laura = Turtle()\n",
    "```\n",
    "\n",
    "Since the name of the Turtle object is a variable name, it must start with a letter and it cannot contain any spaces. In fact, we are creating a variable in exactly the same way as we usually do, except that the data type of the variable is not an integer or a string, but a Turtle! We need to give each Turtle object a different name, so that, when we give instructions, we can be specific about which object we are giving the instructions to.\n",
    "\n",
    "Now, let’s tell our Turtle object what it should look like. Inside the object are attributes, which are pieces of data we can define. The Turtle object has attributes for color and shape, so let’s customise those attributes:\n",
    "\n",
    "```\n",
    "laura.color('red')\n",
    "laura.shape('turtle')\n",
    "```\n",
    "\n",
    "We can also tell our Turtle object what to do by calling other methods. With the code below, we are instructing the object to stop drawing with penup(), then to move to a location with goto(), and finally to get ready to draw a line with pendown().\n",
    "\n",
    "```\n",
    "laura.penup()\n",
    "laura.goto(-160, 100)\n",
    "laura.pendown()\n",
    "```\n",
    "\n",
    "Save your code and run it. What happens?\n",
    "\n",
    "Now it’s your turn. Create three more instances of a Turtle object, each with a different name. We don’t want to send all of the turtles to the same starting point, so tell one new turtle to goto(-160, 70), one to goto(-160, 40) and one to goto(-160, 10). You can set a different colour for each turtle if you like.\n",
    "\n",
    "Save and run your code to check that each of your turtles positions itself correctly, ready to start the race!\n",
    "\n",
    "Now let’s add some code to make the Turtle objects race. Below your four turtle objects, add this code, replacing the names (laura, rik, etc.) with the names of your own turtle objects:\n",
    "\n",
    "```\n",
    "for movement in range(100):\n",
    "    laura.forward(randint(1,5))\n",
    "    rik.forward(randint(1,5))\n",
    "    lauren.forward(randint(1,5))\n",
    "    carrieanne.forward(randint(1,5))\n",
    "```\n",
    "\n",
    "You will also need to go back to the top of your program and add this line of code so that we can generate random integers:\n",
    "\n",
    "from random import randint\n",
    "\n",
    "Just as when we used methods to tell the turtle to penup(), pendown(), and goto(), with this code we are calling a method on each turtle object: we are asking it to move forward() a random distance between one and five units.\n",
    "\n",
    "Save and run your code and see which turtle wins! The result should be different each time you run the code.\n",
    "\n",
    "A similar version of the code from this section of the course is available as a Code Club project, in case you would like to make it with your learners."
   ]
  },
  {
   "cell_type": "markdown",
   "metadata": {},
   "source": [
    "## Code: Turtle Race\n",
    "\n",
    "<img src=\"images/turtle-race-tk.png\" width=400>\n"
   ]
  },
  {
   "cell_type": "code",
   "execution_count": null,
   "metadata": {
    "collapsed": true
   },
   "outputs": [],
   "source": [
    "# %load turtlerace_done.py\n",
    "#!/bin/python3\n",
    "\n",
    "from turtle import *\n",
    "from random import randint\n",
    "\n",
    "speed(0)\n",
    "penup()\n",
    "goto(-140, 140)\n",
    "\n",
    "for step in range(15):\n",
    "  write(step, align='center')\n",
    "  right(90)\n",
    "  for num in range(8):\n",
    "    penup()\n",
    "    forward(10)\n",
    "    pendown()\n",
    "    forward(10)\n",
    "  penup()\n",
    "  backward(160)\n",
    "  left(90)\n",
    "  forward(20)\n",
    "\n",
    "ada = Turtle()\n",
    "ada.color('red')\n",
    "ada.shape('turtle')\n",
    "\n",
    "ada.penup()\n",
    "ada.goto(-160, 100)\n",
    "ada.pendown()\n",
    "\n",
    "for turn in range(10):\n",
    "  ada.right(36)\n",
    "\n",
    "bob = Turtle()\n",
    "bob.color('blue')\n",
    "bob.shape('turtle')\n",
    "\n",
    "bob.penup()\n",
    "bob.goto(-160, 70)\n",
    "bob.pendown()\n",
    "\n",
    "for turn in range(72):\n",
    "  bob.left(5)\n",
    "\n",
    "ivy = Turtle()\n",
    "ivy.shape('turtle')\n",
    "ivy.color('green')\n",
    "\n",
    "ivy.penup()\n",
    "ivy.goto(-160, 40)\n",
    "ivy.pendown()\n",
    "\n",
    "for turn in range(60):\n",
    "  ivy.right(6)\n",
    "\n",
    "jim = Turtle()\n",
    "jim.shape('turtle')\n",
    "jim.color('orange')\n",
    "\n",
    "jim.penup()\n",
    "jim.goto(-160, 10)\n",
    "jim.pendown()\n",
    "\n",
    "for turn in range(30):\n",
    "  jim.left(12)\n",
    "\n",
    "for turn in range(100):\n",
    "  ada.forward(randint(1,5))\n",
    "  bob.forward(randint(1,5))\n",
    "  ivy.forward(randint(1,5))\n",
    "  jim.forward(randint(1,5))\n",
    "  \n"
   ]
  },
  {
   "cell_type": "markdown",
   "metadata": {},
   "source": [
    "# Comparing functions to methods \n",
    "\n",
    "<img src=\"images/tell.png\">\n",
    "\n",
    "You may have already encountered functions when writing Python code. Functions allow us to give a name to a set of instructions. You can pass data to a function, and optionally you can have it return some data as a result.\n",
    "\n",
    "Let’s have a look at an example – the following function will tell a ‘Knock knock’ joke if we provide the intro and the punchline:\n"
   ]
  },
  {
   "cell_type": "code",
   "execution_count": 3,
   "metadata": {
    "collapsed": true
   },
   "outputs": [],
   "source": [
    "def tell(intro, punchline):\n",
    "    print(\"Knock knock\")\n",
    "    print(\"Who's there\")\n",
    "    print(intro)\n",
    "    print(intro + \" who\")\n",
    "    print(punchline)"
   ]
  },
  {
   "cell_type": "markdown",
   "metadata": {},
   "source": [
    "You might call this function by writing this line of code:\n"
   ]
  },
  {
   "cell_type": "code",
   "execution_count": 5,
   "metadata": {},
   "outputs": [
    {
     "name": "stdout",
     "output_type": "stream",
     "text": [
      "Knock knock\n",
      "Who's there\n",
      "Atch\n",
      "Atch who\n",
      "Sounds like you’ve got a cold!\n"
     ]
    }
   ],
   "source": [
    "tell(\"Atch\", \"Sounds like you’ve got a cold!\")"
   ]
  },
  {
   "cell_type": "markdown",
   "metadata": {},
   "source": [
    "When we programmed the turtles, we used methods such as goto(), which are very similar to functions. The difference is that a method is called on an object, which means that as well as being able to receive data from outside, a method can use all of the data stored inside the object as well.\n",
    "\n",
    "Here’s what the same joke might look like if we had defined a Joke object with a tell() method\n"
   ]
  },
  {
   "cell_type": "code",
   "execution_count": 6,
   "metadata": {},
   "outputs": [
    {
     "ename": "NameError",
     "evalue": "name 'Joke' is not defined",
     "output_type": "error",
     "traceback": [
      "\u001b[0;31m---------------------------------------------------------------------------\u001b[0m",
      "\u001b[0;31mNameError\u001b[0m                                 Traceback (most recent call last)",
      "\u001b[0;32m<ipython-input-6-49851f3be681>\u001b[0m in \u001b[0;36m<module>\u001b[0;34m()\u001b[0m\n\u001b[0;32m----> 1\u001b[0;31m \u001b[0mmyjoke\u001b[0m \u001b[0;34m=\u001b[0m \u001b[0mJoke\u001b[0m\u001b[0;34m(\u001b[0m\u001b[0;34m\"Atch\"\u001b[0m\u001b[0;34m,\u001b[0m \u001b[0;34m\"Sounds like you’ve got a cold!\"\u001b[0m\u001b[0;34m)\u001b[0m\u001b[0;34m\u001b[0m\u001b[0m\n\u001b[0m\u001b[1;32m      2\u001b[0m \u001b[0mmyjoke\u001b[0m\u001b[0;34m.\u001b[0m\u001b[0mtell\u001b[0m\u001b[0;34m(\u001b[0m\u001b[0;34m)\u001b[0m\u001b[0;34m\u001b[0m\u001b[0m\n",
      "\u001b[0;31mNameError\u001b[0m: name 'Joke' is not defined"
     ]
    }
   ],
   "source": [
    "myjoke = Joke(\"Atch\", \"Sounds like you’ve got a cold!\")\n",
    "myjoke.tell()"
   ]
  },
  {
   "cell_type": "markdown",
   "metadata": {},
   "source": [
    "If you type in this code and try to run it, you will receive an error:\n",
    "NameError: name 'Joke' is not defined\n",
    "This is because we have to first tell Python how to create a Joke object. To do this, Python needs a blueprint. The blueprint we create for an object is called a class.\n"
   ]
  },
  {
   "cell_type": "markdown",
   "metadata": {},
   "source": [
    "# Cement your knowledge of objects \n",
    "\n",
    "So far, we have learnt that an object has attributes (or pieces of data) stored inside it, and methods we can call on it to give it instructions.\n",
    "\n",
    "Do you remember when we added this line of code in the turtle program?\n",
    "\n",
    "```\n",
    "from turtle import Turtle\n",
    "```\n",
    "This line told Python that we would like to import the Turtle class so we can use it to make Turtle objects. Did you notice that I used a capital ‘T’ when referring to the Turtle class, but I didn’t use a capital letter in the name I gave the object?\n",
    "\n",
    "```\n",
    "laura = Turtle()\n",
    "```\n",
    "\n",
    "This was because class names usually start with a ***capital*** so that they are easily distinguishable from variable names.\n",
    "\n",
    "As I briefly mentioned earlier, a class is like a blueprint for creating objects. I like to think of a class as being similar to a cookie cutter – it is a template for all the cookie objects you make. You can make as many instances of cookie objects as you want, and they will all start off from the same template. If you like, you can customise each instance of a cookie object, perhaps by adding some icing or some sprinkles. But whenever you make cookies, you use the same cookie-cutter template."
   ]
  },
  {
   "cell_type": "markdown",
   "metadata": {},
   "source": [
    "# Recap Week 1 \n",
    "\n",
    "This lesson we looked at what an object is and how we can use objects in a program. We know that objects come from a class, which is like a blueprint, and that we can customise the attributes of an object as well as call methods on it.\n",
    "We know that each object starts with the same attributes, but since each object is a separate instance of a class, we can customise objects individually.\n",
    "\n",
    "Next lesson we will learn how to write our own class in order to create custom objects. We will begin creating an adventure game, and write our own Item class.\n",
    "\n",
    "Glossary\n",
    "* Attribute – a named piece of data stored within an object\n",
    "* Class – a blueprint for making an object\n",
    "* Instance – a specific example of an object\n",
    "* Method – a function called upon an object allowing interaction with that object\n",
    "* Object – groups together data and functions to model something in code. Examples could include a physical item such as an LED, or a digital unit such as a bank account or an enemy in a video game\n",
    "* Object-oriented programming – a different style of programming\n",
    "* Setter – a method whose purpose it is to set a value within an object\n",
    "\n",
    "# Now do Quiz OOP1: https://goo.gl/forms/OtHnunXyG9YaO0Q83"
   ]
  },
  {
   "cell_type": "code",
   "execution_count": null,
   "metadata": {
    "collapsed": true
   },
   "outputs": [],
   "source": []
  }
 ],
 "metadata": {
  "kernelspec": {
   "display_name": "Python 3",
   "language": "python",
   "name": "python3"
  },
  "language_info": {
   "codemirror_mode": {
    "name": "ipython",
    "version": 3
   },
   "file_extension": ".py",
   "mimetype": "text/x-python",
   "name": "python",
   "nbconvert_exporter": "python",
   "pygments_lexer": "ipython3",
   "version": "3.6.1"
  }
 },
 "nbformat": 4,
 "nbformat_minor": 2
}
