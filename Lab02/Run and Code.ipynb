{
 "cells": [
  {
   "cell_type": "markdown",
   "metadata": {},
   "source": [
    "# Run your code\n",
    "\n",
    "Steps:\n",
    "\n",
    "1. Type the code in your editor (Atom or your choice)\n",
    "2. Save it as guess_number.py (Try not to put spaces in your python file name). You need to end your file with \".py\".\n",
    "3. Run your code by: `python3 guess_number.py` OR `python guess_number.py`\n",
    "\n",
    "<img src=\"guess_number.png\">"
   ]
  },
  {
   "cell_type": "code",
   "execution_count": null,
   "metadata": {
    "collapsed": true
   },
   "outputs": [],
   "source": []
  }
 ],
 "metadata": {
  "kernelspec": {
   "display_name": "Python 3",
   "language": "python",
   "name": "python3"
  },
  "language_info": {
   "codemirror_mode": {
    "name": "ipython",
    "version": 3
   },
   "file_extension": ".py",
   "mimetype": "text/x-python",
   "name": "python",
   "nbconvert_exporter": "python",
   "pygments_lexer": "ipython3",
   "version": "3.6.1"
  }
 },
 "nbformat": 4,
 "nbformat_minor": 2
}
