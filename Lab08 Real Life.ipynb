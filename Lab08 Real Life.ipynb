{
 "cells": [
  {
   "cell_type": "markdown",
   "metadata": {},
   "source": [
    "# How long is my long service leave?\n",
    "\n",
    "\n",
    "Pictures of the edupay"
   ]
  },
  {
   "cell_type": "code",
   "execution_count": 15,
   "metadata": {},
   "outputs": [
    {
     "name": "stdout",
     "output_type": "stream",
     "text": [
      "Start Date of Long Service Leave is Tue 2018-01-30\n",
      "Paid Weeks: 18.0\n",
      "Start Date of Long Service Leave is Tue 2018-06-05\n"
     ]
    }
   ],
   "source": [
    "from datetime import datetime, timedelta\n",
    "\n",
    "\n",
    "start_date = datetime(2018, 1, 30)\n",
    "print('Start Date of Long Service Leave is', start_date.strftime('%a %Y-%m-%d'))\n",
    "paid_weeks = 347.32//7.6/5 * 2\n",
    "end_date = start_date + timedelta(weeks=paid_weeks)\n",
    "print('Paid Weeks:', paid_weeks)\n",
    "print('Start Date of Long Service Leave is', end_date.strftime('%a %Y-%m-%d'))"
   ]
  },
  {
   "cell_type": "code",
   "execution_count": null,
   "metadata": {
    "collapsed": true
   },
   "outputs": [],
   "source": []
  }
 ],
 "metadata": {
  "kernelspec": {
   "display_name": "Python 3",
   "language": "python",
   "name": "python3"
  },
  "language_info": {
   "codemirror_mode": {
    "name": "ipython",
    "version": 3
   },
   "file_extension": ".py",
   "mimetype": "text/x-python",
   "name": "python",
   "nbconvert_exporter": "python",
   "pygments_lexer": "ipython3",
   "version": "3.6.1"
  }
 },
 "nbformat": 4,
 "nbformat_minor": 2
}
