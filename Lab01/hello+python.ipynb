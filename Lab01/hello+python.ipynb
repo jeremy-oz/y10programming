{
 "cells": [
  {
   "cell_type": "markdown",
   "metadata": {},
   "source": [
    "# Hello Python\n",
    "\n",
    "## Learning Objectives\n",
    "\n",
    "* Install Python\n",
    "* Install Editor (Atom) -- this is mainly for Web Design\n",
    "* Lab Exercise 1"
   ]
  },
  {
   "cell_type": "markdown",
   "metadata": {},
   "source": [
    "## Install Python\n",
    "\n",
    "1. Download Python 3.6.2 from [python.org](https://www.python.org/downloads/)\n",
    "1. Install Python \n",
    "1. If you are not sure how to do it, please watch [Lecture - Ch00 Get Ready](https://drive.google.com/drive/folders/0B3RSC8_OFtm2ZkFjaW9pakVnY2c?usp=sharing)\n",
    "1. Once you complete your installation, make sure your partner also does it successfully."
   ]
  },
  {
   "cell_type": "markdown",
   "metadata": {},
   "source": [
    "## Install Atom\n",
    "\n",
    "1. Download Atom editor from [atom.io](https://atom.io/)\n",
    "2. Install Atom"
   ]
  },
  {
   "cell_type": "markdown",
   "metadata": {},
   "source": [
    "# Chapter 1 Why should you learn to write programs"
   ]
  },
  {
   "cell_type": "markdown",
   "metadata": {},
   "source": [
    "## Working with the command line (Win) \n",
    "\n",
    "__Once you install Python, let's get started.__\n",
    "\n",
    "__If you are using Mac, go to [Mac Section](#Mac_install).__"
   ]
  },
  {
   "cell_type": "markdown",
   "metadata": {},
   "source": [
    "<img width=\"150\" align=\"left\" src=\"Windows-10-One-300px.png\" />"
   ]
  },
  {
   "cell_type": "markdown",
   "metadata": {},
   "source": [
    "\n",
    "\n",
    "First, start Command Prompt on Windows or Terminal on Mac.\n",
    "\n",
    "<img align=\"left\" width=\"400\" src=\"https://upload.wikimedia.org/wikipedia/commons/b/b3/Command_Prompt_on_Windows_10_RTM.png\" />\n",
    "\n"
   ]
  },
  {
   "cell_type": "markdown",
   "metadata": {},
   "source": [
    "### Working with files and directories (folders)\n",
    "\n",
    "#### goals:\n",
    "\n",
    "1. Know how to change directories, show files and directories and run a program.\n",
    "\n",
    "***\n",
    "\n",
    "\n",
    "* __cd__\n",
    "    - change to a different directory (folder)\n",
    "* __dir__\n",
    "    - list files and directories in the working directory\n",
    "    - Your working directory is the directory you are in.\n",
    "* __program.exe__\n",
    "    - run a program\n",
    "    - You can run a program by typing in its name. You can also skip \".exe\" and just type in \"program\"\n",
    "* __mycode.py__\n",
    "    - You can run a python program by typing in the name.\n",
    "* __python mycode.py__\n",
    "    - Another way to run your python program."
   ]
  },
  {
   "cell_type": "markdown",
   "metadata": {
    "collapsed": true
   },
   "source": [
    "<img width=\"400\" src=\"https://upload.wikimedia.org/wikipedia/commons/7/78/Appleterminal2.png\" />\n",
    "\n",
    "\n",
    "Then, type python and you should see this:\n",
    "\n",
    "    Python 3.6.2 (v3.5.1:37a07cee5969, July 7 2017, 01:54:25)\n",
    "    [MSC v.1900 64 bit (AMD64)] on win32\n",
    "    Type \"help\", \"copyright\", \"credits\" or \"license\" for more information.\n",
    "    >>>\n",
    "    \n",
    "The >>> prompt is the Python interpreter's way of asking you, \"What do you want\n",
    "me to do next?\" \n",
    "\n",
    "To say \"goodbye\" to Python is to enter quit() at the interactive\n",
    "chevron >>> prompt."
   ]
  },
  {
   "cell_type": "markdown",
   "metadata": {},
   "source": [
    "__Now go to [Lab Exercise 1](#Lab)__"
   ]
  },
  {
   "cell_type": "markdown",
   "metadata": {},
   "source": [
    "<a id=\"Mac_install\"></a>\n",
    "## Working with the command line (Mac) \n",
    "\n",
    "<img width=\"150\" align=\"left\" src=\"adam-lowe-MacBook-300px.png\" />"
   ]
  },
  {
   "cell_type": "markdown",
   "metadata": {
    "collapsed": true
   },
   "source": [
    "### Working with files and directories (folders)\n",
    "\n",
    "#### goals:\n",
    "\n",
    "1. Know how to change directories, show files and directories and run a program.\n",
    "\n",
    "***\n",
    "\n",
    "\n",
    "* __cd__\n",
    "    - change to a different directory (folder)\n",
    "* __ls__\n",
    "    - list files and directories in the working directory\n",
    "    - Your working directory is the directory you are in.\n",
    "    - You can use \"ls -l\" for long format (more details)\n",
    "* __pwd__\n",
    "    - find out which directory is your working (current) directory\n",
    "* __program__\n",
    "    - run a program\n",
    "    - You can run a program by typing in its name.\n",
    "* __python mycode.py__\n",
    "    - The way to run your python program.\n"
   ]
  },
  {
   "cell_type": "markdown",
   "metadata": {
    "collapsed": true,
    "slideshow": {
     "slide_type": "slide"
    }
   },
   "source": [
    "<a id=\"Lab\"></a>\n",
    "## Exercise 1\n",
    "\n"
   ]
  },
  {
   "cell_type": "markdown",
   "metadata": {},
   "source": [
    "### Say Hello\n",
    "\n",
    "1.1 Write a program that uses a print statement to say 'hello world'.\n",
    "\n",
    "* Shift + Enter to run your code"
   ]
  },
  {
   "cell_type": "code",
   "execution_count": 4,
   "metadata": {
    "slideshow": {
     "slide_type": "subslide"
    }
   },
   "outputs": [],
   "source": [
    "# the code below almost works\n",
    "\n",
    "prinq(\"hello world\")"
   ]
  },
  {
   "cell_type": "markdown",
   "metadata": {},
   "source": [
    "### Guess the number"
   ]
  },
  {
   "cell_type": "markdown",
   "metadata": {},
   "source": [
    "1.2 Talk Python (Pair Activity)\n",
    "\n",
    "* Your goal is to type all code in to your editor (Atom) exactly as it is shown (verbatim).\n",
    "* After you enter the code, run it.\n",
    "* Fix any error and ask your teacher to mark your name off.\n",
    "\n",
    "Hints:\n",
    "1. Don't enter the line number (at the beginning).\n",
    "2. Use intentation by pressing \"Tab\" key.\n",
    "3. Make sure your indentation match exactly.\n",
    "\n",
    "<img align=\"left\" width=\"600\" src=\"guess_number.png\" />"
   ]
  },
  {
   "cell_type": "markdown",
   "metadata": {},
   "source": [
    "### Touch Type Training\n",
    "\n",
    "Touch type is typing without using your eyes to find the keys. Specifically, a touch typist will know their location on the keyboard through muscle memory.\n",
    "\n",
    "If you cannot touch type yet, here is a training course you can do at home.\n",
    "Get your account from your teacher. \n",
    "* username: school id\n",
    "* password: 6 digits\n",
    "* website: [Typing Club](https://alkirasc.typingclub.com/)"
   ]
  },
  {
   "cell_type": "code",
   "execution_count": null,
   "metadata": {
    "collapsed": true
   },
   "outputs": [],
   "source": []
  }
 ],
 "metadata": {
  "kernelspec": {
   "display_name": "Python 3",
   "language": "python",
   "name": "python3"
  },
  "language_info": {
   "codemirror_mode": {
    "name": "ipython",
    "version": 3
   },
   "file_extension": ".py",
   "mimetype": "text/x-python",
   "name": "python",
   "nbconvert_exporter": "python",
   "pygments_lexer": "ipython3",
   "version": "3.6.1"
  }
 },
 "nbformat": 4,
 "nbformat_minor": 2
}
