{
 "cells": [
  {
   "cell_type": "markdown",
   "metadata": {},
   "source": [
    "# Hello Python\n",
    "\n",
    "## Learning Objectives\n",
    "\n",
    "* Install Python\n",
    "* Install Editor (Atom) -- this is mainly for Web Design\n",
    "* Lab Exercise 1"
   ]
  },
  {
   "cell_type": "markdown",
   "metadata": {},
   "source": [
    "## Install Python\n",
    "\n",
    "1. Download Python 3.6.2 from [python.org](https://www.python.org/downloads/)\n",
    "1. Install Python \n",
    "1. If you are not sure how to do it, please watch [Lecture - Ch00 Get Ready](https://drive.google.com/drive/folders/0B3RSC8_OFtm2ZkFjaW9pakVnY2c?usp=sharing)\n",
    "1. Once you complete your installation, make sure your partner also does it successfully."
   ]
  },
  {
   "cell_type": "markdown",
   "metadata": {},
   "source": [
    "## Install Atom\n",
    "\n",
    "1. Download Atom editor from [atom.io](https://atom.io/)\n",
    "2. Install Atom"
   ]
  },
  {
   "cell_type": "markdown",
   "metadata": {},
   "source": [
    "# Chapter 1 Why should you learn to write programs"
   ]
  },
  {
   "cell_type": "markdown",
   "metadata": {},
   "source": [
    "## Working with the command line\n",
    "\n",
    "__Once you install Python, let's get started.__\n",
    "\n"
   ]
  },
  {
   "cell_type": "markdown",
   "metadata": {},
   "source": [
    "### If you are using Mac, go to [Mac Section](#Mac_install)."
   ]
  },
  {
   "cell_type": "markdown",
   "metadata": {},
   "source": [
    "First, start Command Prompt on Windows or Terminal on Mac.\n",
    "\n",
    "<img width=\"400\" src=\"https://upload.wikimedia.org/wikipedia/commons/b/b3/Command_Prompt_on_Windows_10_RTM.png\" />\n",
    "\n"
   ]
  },
  {
   "cell_type": "markdown",
   "metadata": {},
   "source": [
    "### Working with files and directories (folders)\n",
    "\n",
    "#### goals:\n",
    "\n",
    "1. Know how to change directories, show files and directories and run a program.\n",
    "\n",
    "***\n",
    "\n",
    "\n",
    "* __cd__\n",
    "    - change to a different directory (folder)\n",
    "* __dir__\n",
    "    - list files and directories in the working directory\n",
    "    - Your working directory is the directory you are in.\n",
    "* __program.exe__\n",
    "    - run a program\n",
    "    - You can run a program by typing in its name. You can also skip \".exe\" and just type in \"program\"\n",
    "* __mycode.py__\n",
    "    - You can run a python program by typing in the name.\n",
    "* __python mycode.py__\n",
    "    - Another way to run your python program."
   ]
  },
  {
   "cell_type": "markdown",
   "metadata": {
    "collapsed": true
   },
   "source": [
    "<img width=\"400\" src=\"https://upload.wikimedia.org/wikipedia/commons/7/78/Appleterminal2.png\" />\n",
    "\n",
    "\n",
    "Then, type python and you should see this:\n",
    "\n",
    "    Python 3.6.2 (v3.5.1:37a07cee5969, July 7 2017, 01:54:25)\n",
    "    [MSC v.1900 64 bit (AMD64)] on win32\n",
    "    Type \"help\", \"copyright\", \"credits\" or \"license\" for more information.\n",
    "    >>>\n",
    "    \n",
    "The >>> prompt is the Python interpreter's way of asking you, \"What do you want\n",
    "me to do next?\" \n",
    "\n",
    "To say \"goodbye\" to Python is to enter quit() at the interactive\n",
    "chevron >>> prompt."
   ]
  },
  {
   "cell_type": "markdown",
   "metadata": {},
   "source": [
    "<a id=\"Mac_install\"></a>\n",
    "Mac "
   ]
  },
  {
   "cell_type": "code",
   "execution_count": null,
   "metadata": {
    "collapsed": true
   },
   "outputs": [],
   "source": [
    "cd\n",
    "ls -l\n",
    "pwd\n",
    "python mycode.py"
   ]
  },
  {
   "cell_type": "markdown",
   "metadata": {
    "collapsed": true,
    "slideshow": {
     "slide_type": "slide"
    }
   },
   "source": [
    "<a id=\"Lab\"></a>\n",
    "## Exercise 1\n",
    "### Write a program that uses a print statement to say 'hello world'.\n",
    "\n",
    "* Shift + Enter to run your code"
   ]
  },
  {
   "cell_type": "code",
   "execution_count": 2,
   "metadata": {
    "slideshow": {
     "slide_type": "subslide"
    }
   },
   "outputs": [],
   "source": [
    "# the code below almost works\n",
    "\n",
    "prinq(\"hello world\")"
   ]
  }
 ],
 "metadata": {
  "kernelspec": {
   "display_name": "Python 3",
   "language": "python",
   "name": "python3"
  },
  "language_info": {
   "codemirror_mode": {
    "name": "ipython",
    "version": 3
   },
   "file_extension": ".py",
   "mimetype": "text/x-python",
   "name": "python",
   "nbconvert_exporter": "python",
   "pygments_lexer": "ipython3",
   "version": "3.6.1"
  }
 },
 "nbformat": 4,
 "nbformat_minor": 2
}
