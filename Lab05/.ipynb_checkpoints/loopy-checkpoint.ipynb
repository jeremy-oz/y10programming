{
 "cells": [
  {
   "cell_type": "markdown",
   "metadata": {},
   "source": [
    "# Lab 5\n",
    "\n",
    "## Abstraction\n",
    "\n",
    "<img src=\"https://bam.files.bbci.co.uk/bam/live/content/zwvdwmn/large\">\n",
    "\n",
    "source: [BBC Bitesize](http://www.bbc.co.uk/education/guides/zttrcdm/revision)"
   ]
  },
  {
   "cell_type": "markdown",
   "metadata": {},
   "source": [
    "## Real face to virtual face\n",
    "\n",
    "### Good abstraction\n",
    "\n",
    "* Realistic: Look like a face\n",
    "* Flexibile: \n",
    "    \n",
    "    - You can move a face to any point on the canvmas.\n",
    "    - You can resize a face\n"
   ]
  },
  {
   "cell_type": "markdown",
   "metadata": {},
   "source": [
    "# Flow Control\n",
    "\n",
    "* if\n",
    "* for loop\n",
    "* while loop\n"
   ]
  },
  {
   "cell_type": "code",
   "execution_count": 1,
   "metadata": {},
   "outputs": [
    {
     "name": "stdout",
     "output_type": "stream",
     "text": [
      "Please enter your name: jeremy\n",
      "Welcome to Skynet, Sir.\n"
     ]
    }
   ],
   "source": [
    "## if 1: if only\n",
    "\n",
    "name = input('Please enter your name: ')\n",
    "\n",
    "if name == 'jeremy':\n",
    "    print('Welcome to Skynet, Sir.')\n"
   ]
  },
  {
   "cell_type": "code",
   "execution_count": 2,
   "metadata": {},
   "outputs": [
    {
     "name": "stdout",
     "output_type": "stream",
     "text": [
      "Please enter your name: tom\n",
      "Alert. Unauthorised access detected!\n"
     ]
    }
   ],
   "source": [
    "# if 2: if + else\n",
    "\n",
    "name = input('Please enter your name: ')\n",
    "\n",
    "if name == 'jeremy':\n",
    "    print('Welcome to Skynet, Sir.')\n",
    "else:\n",
    "    print('Alert. Unauthorised access detected!')\n"
   ]
  },
  {
   "cell_type": "code",
   "execution_count": 3,
   "metadata": {},
   "outputs": [
    {
     "name": "stdout",
     "output_type": "stream",
     "text": [
      "Please enter your name: mary\n",
      "Welcome to Earthnet, Madam.\n"
     ]
    }
   ],
   "source": [
    "# if 3: if + elif\n",
    "\n",
    "name = input('Please enter your name: ')\n",
    "\n",
    "if name == 'jeremy':\n",
    "    print('Welcome to Skynet, Sir.')\n",
    "elif name == 'ben':\n",
    "    print('Welcome to Oceannet, Sir.')\n",
    "elif name == 'mary':\n",
    "    print('Welcome to Earthnet, Madam.')\n",
    "else:\n",
    "    print('Alert. Unauthorised access detected!')"
   ]
  },
  {
   "cell_type": "code",
   "execution_count": 4,
   "metadata": {},
   "outputs": [
    {
     "name": "stdout",
     "output_type": "stream",
     "text": [
      "\n",
      "*\n",
      "**\n",
      "***\n",
      "****\n",
      "*****\n"
     ]
    }
   ],
   "source": [
    "# for 1:\n",
    "\n",
    "for i in [0, 1, 2, 3, 4, 5]:\n",
    "    print('*' * i)"
   ]
  },
  {
   "cell_type": "code",
   "execution_count": 5,
   "metadata": {},
   "outputs": [
    {
     "name": "stdout",
     "output_type": "stream",
     "text": [
      "*\n",
      "***\n",
      "*****\n",
      "*******\n",
      "*********\n",
      "***********\n",
      "*************\n",
      "***************\n",
      "*****************\n",
      "*******************\n"
     ]
    }
   ],
   "source": [
    "# for 1:\n",
    "# You can use `range(start, end, step)` to create a number sequence.\n",
    "\n",
    "numbers = range(1, 20, 2)\n",
    "\n",
    "for i in numbers:\n",
    "    print('*' * i)"
   ]
  },
  {
   "cell_type": "code",
   "execution_count": 6,
   "metadata": {},
   "outputs": [
    {
     "name": "stdout",
     "output_type": "stream",
     "text": [
      "*\n",
      "**\n",
      "***\n",
      "****\n",
      "*****\n",
      "******\n",
      "*******\n",
      "********\n",
      "*********\n",
      "You only see 9 stairs here. Why?\n"
     ]
    }
   ],
   "source": [
    "numbers = range(1, 10) # without step, it will use 1 for step.\n",
    "\n",
    "for i in numbers:\n",
    "    print('*' * i)\n",
    "    \n",
    "print('You only see 9 stairs here. Why?')"
   ]
  },
  {
   "cell_type": "code",
   "execution_count": 7,
   "metadata": {},
   "outputs": [
    {
     "name": "stdout",
     "output_type": "stream",
     "text": [
      "\n",
      "*\n",
      "**\n",
      "***\n",
      "****\n",
      "*****\n",
      "******\n",
      "*******\n",
      "********\n",
      "*********\n",
      "You only see 9 stairs here. Why?\n"
     ]
    }
   ],
   "source": [
    "numbers = range(10) # only one number, it starts with 0 and ends with (the number - 1)\n",
    "\n",
    "for i in numbers:\n",
    "    print('*' * i)\n",
    "\n",
    "print('You only see 9 stairs here. Why?')"
   ]
  },
  {
   "cell_type": "code",
   "execution_count": 9,
   "metadata": {},
   "outputs": [
    {
     "name": "stdout",
     "output_type": "stream",
     "text": [
      "How tall is the pyramid? 10\n",
      "\n",
      "L\n",
      "KK\n",
      "III\n",
      "RRRR\n",
      "AAAAA\n",
      "AAAAAA\n",
      "LLLLLLL\n",
      "KKKKKKKK\n",
      "IIIIIIIII\n",
      "A is missing from the top. Can you fix it?\n"
     ]
    }
   ],
   "source": [
    "# for 2:\n",
    "# \n",
    "# use % to find the remainder: 9 % 4 = 1\n",
    "# use len() to find the length of something: \n",
    "#     len('abcd') = 4                     # four characters in the string 'abcd'\n",
    "#     len(['John', 'Tom', 'Adam']) = 3    # three names in this list\n",
    "\n",
    "height = int(input('How tall is the pyramid? '))\n",
    "blocks = 'ALKIRA'\n",
    "\n",
    "for i in range(height):\n",
    "    print(blocks[i % len(blocks)] * i)\n",
    "\n",
    "print('A is missing from the top. Can you fix it?')"
   ]
  },
  {
   "cell_type": "code",
   "execution_count": 8,
   "metadata": {},
   "outputs": [
    {
     "name": "stdout",
     "output_type": "stream",
     "text": [
      "You should wear Blue clothes.\n",
      "You should wear Green clothes.\n",
      "You should wear Red clothes.\n",
      "You should wear Pink clothes.\n"
     ]
    }
   ],
   "source": [
    "# for 3:\n",
    "\n",
    "for color in ['Blue', 'Green', 'Red', 'Pink']:\n",
    "    print('You should wear', color, 'clothes.')"
   ]
  },
  {
   "cell_type": "markdown",
   "metadata": {},
   "source": [
    "# Lab 5.1 Pyramid Built on Your Name\n",
    "\n",
    "You are the great Pharaoh [insert your name]. You decide to build a pyramid for yourself. You want your pyramid to be a whole pyramid, not half pyramid like above. Also your pyraid is built using your name. One letter a layer and starting from the bottom. The height of your pyramid depends on the length of your name. \n",
    "\n",
    "<img src=\"https://upload.wikimedia.org/wikipedia/commons/thumb/a/af/All_Gizah_Pyramids.jpg/440px-All_Gizah_Pyramids.jpg\" alt=\"pyramid image\" width=\"400\">\n",
    "\n",
    "***It should look like this:***\n",
    "\n",
    "```\n",
    "Pyramid Of The Great Pharaoh CHEN\n",
    "\n",
    "   NN\n",
    "  EEEE\n",
    " HHHHHH\n",
    "CCCCCCCC\n",
    "```"
   ]
  },
  {
   "cell_type": "markdown",
   "metadata": {},
   "source": [
    "# Lab 5.2 Animated Pyramid\n",
    "\n",
    "Once you build your pyrmaid, you want the pyramid to be shown layer by layer from top to bottom.\n",
    "You need to use `time()` to control how quickly the pyramid is displayed."
   ]
  },
  {
   "cell_type": "markdown",
   "metadata": {},
   "source": [
    "# Canvas level up\n",
    "\n",
    "\n",
    "## Shapes you already know\n",
    "\n",
    "* ovals (circles): create_oval()\n",
    "* lines: create_line()\n",
    "* rectangles: create_rectangle()\n",
    "* arcs: create_arc()\n",
    "\n",
    "\n",
    "## New Graphic Components\n",
    "\n",
    "* texts: create_text()\n",
    "* polygons: create_polygon()\n",
    "* images: create_image()\n"
   ]
  },
  {
   "cell_type": "markdown",
   "metadata": {},
   "source": [
    "# Lab 5.3 Name animation\n",
    "\n",
    "Create random text using\n",
    "\n",
    "* create_text()\n",
    "* randomint()\n",
    "* sleep()\n",
    "\n",
    "***Task:***\n",
    "\n",
    "1. Create your own name\n",
    "1. Change the background color\n",
    "1. Change the pause time\n",
    "\n",
    "<img src=\"randomtext.png\" width=\"60%\" alt=\"random text\">\n"
   ]
  },
  {
   "cell_type": "code",
   "execution_count": null,
   "metadata": {},
   "outputs": [],
   "source": [
    "# %load randomtext.py\n",
    "from tkinter import *\n",
    "from tkinter import font\n",
    "from random import randint\n",
    "from time import sleep\n",
    "\n",
    "tk = Tk()\n",
    "c = Canvas(tk, width=800, height=600, bg='LemonChiffon2')\n",
    "c.pack()\n",
    "\n",
    "while True:\n",
    "    x, y = randint(0, 800), randint(0, 600)\n",
    "    rfont = font.Font(family='Times New Roman', size=randint(8, 48), weight='bold')\n",
    "    rcolor = '#%6x' % randint(0x0, 0xFFFFFF)\n",
    "    c.create_text(x, y, text='Jeremy Chen', font=rfont, fill=rcolor)\n",
    "    tk.update()\n",
    "    sleep(.2)\n"
   ]
  },
  {
   "cell_type": "markdown",
   "metadata": {},
   "source": [
    "## Use polygons to create pailings\n",
    "\n",
    "### Strategies to find coordinates\n",
    "\n",
    "* Use paper and paper\n",
    "* Use [GeoGebra](https://www.geogebra.org/graphing)\n",
    "\n",
    "***Remember y is positive (not negative) going down for computer***\n",
    "<img alt=\"how to decide the coordinates of a polygon\" src=\"decide_polygon_coordinates.png\">\n",
    "\n",
    "### Start with this example file: palings.py\n",
    "\n",
    "***Result***\n",
    "<img src=\"palings.png\" width=\"50%\">"
   ]
  },
  {
   "cell_type": "code",
   "execution_count": null,
   "metadata": {},
   "outputs": [],
   "source": [
    "# %load palings.py\n",
    "from tkinter import *\n",
    "\n",
    "tk = Tk()\n",
    "c = Canvas(tk, width=800, height=600, bg='pale green')\n",
    "c.pack()\n",
    "\n",
    "\n",
    "for i in range(5):\n",
    "    x = 35 * i\n",
    "    y = 0\n",
    "    # draw a paling\n",
    "    c.create_polygon(20+x, 100+y, 20+x, 20+y, 30+x, 10+y, 40+x, 20+y, 40+x, 100+y, fill='sienna4')\n",
    "\n",
    "tk.mainloop()\n"
   ]
  },
  {
   "cell_type": "markdown",
   "metadata": {
    "collapsed": true
   },
   "source": [
    "## Use create_image() to include images\n",
    "\n",
    "***Only gif files are allowed***\n",
    "\n",
    "<img src=\"fence.png\" alt=\"Grass\" width=\"60%\">\n"
   ]
  },
  {
   "cell_type": "code",
   "execution_count": 11,
   "metadata": {
    "collapsed": true
   },
   "outputs": [],
   "source": [
    "# %load fence.py\n",
    "from tkinter import *\n",
    "\n",
    "tk = Tk()\n",
    "image_bg = PhotoImage(file=\"grass.gif\")\n",
    "# picture converted from: openclipart.org\n",
    "# url: https://openclipart.org/download/168711/1330899616.svg\n",
    "\n",
    "c = Canvas(tk, width=image_bg.width(), height=image_bg.height())\n",
    "c.pack()\n",
    "\n",
    "\n",
    "c.create_image(image_bg.width()/2, image_bg.height()/2, image=image_bg)\n",
    "\n",
    "tk.mainloop()\n"
   ]
  },
  {
   "cell_type": "markdown",
   "metadata": {},
   "source": [
    "# Lab 5.4 Fencing your garden\n",
    "\n",
    "***Task:***\n",
    "\n",
    "1. Find a picture of your garden\n",
    "1. Build a fence around it\n",
    "\n"
   ]
  },
  {
   "cell_type": "markdown",
   "metadata": {
    "collapsed": true
   },
   "source": [
    "# CAT 2 - 25 things\n",
    "\n",
    "Carefully review Vera Molnar's art piece. Your task is to create a painting (drawing) with 25 objects. All objects are of a type (squares, faces, etc) but also have their own unique characteristics (different colours, spacing, etc)\n",
    "\n",
    "## 25 Squares\n",
    "\n",
    "* Artist: Vera Molnar\n",
    "* Title: 25 Carrès (25 Squares)\n",
    "* Year: 1990\n",
    "* Type: computer graphic\n",
    "* Media: print\n",
    "* Size: 37 x 37 cm \n",
    "\n",
    "\n",
    "\n",
    "<img src=\"25squares.png\" alt=\"25 squares\" width=\"400\">\n",
    "\n",
    "[Source](http://digitalartmuseum.org/gallery/image/8850.html)\n",
    "\n",
    "## Marking Guide\n",
    "\n",
    "1. Coding Techniques 70%\n",
    "2. Aesthetics 30%"
   ]
  },
  {
   "cell_type": "code",
   "execution_count": null,
   "metadata": {
    "collapsed": true
   },
   "outputs": [],
   "source": []
  }
 ],
 "metadata": {
  "kernelspec": {
   "display_name": "Python 3",
   "language": "python",
   "name": "python3"
  },
  "language_info": {
   "codemirror_mode": {
    "name": "ipython",
    "version": 3
   },
   "file_extension": ".py",
   "mimetype": "text/x-python",
   "name": "python",
   "nbconvert_exporter": "python",
   "pygments_lexer": "ipython3",
   "version": "3.6.1"
  }
 },
 "nbformat": 4,
 "nbformat_minor": 2
}
