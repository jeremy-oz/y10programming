{
 "cells": [
  {
   "cell_type": "code",
   "execution_count": 1,
   "metadata": {
    "collapsed": true
   },
   "outputs": [],
   "source": [
    "students = ['Omar', 'Burak', 'Jordan', 'Tony', 'Tyson', 'Jack',\n",
    "            'Edwin', 'Alejandro', 'Rick', 'David', 'Ali Akbar',\n",
    "            'Josh', 'Yahqub', 'Keanu', 'Josh', 'Jarrod', 'Liam',\n",
    "            'Jesse', 'Moustafa', 'Armaan', 'Navish', 'Daniel']"
   ]
  },
  {
   "cell_type": "code",
   "execution_count": 18,
   "metadata": {
    "collapsed": true
   },
   "outputs": [],
   "source": [
    "import random\n",
    "import pprint\n",
    "from collections import defaultdict\n"
   ]
  },
  {
   "cell_type": "code",
   "execution_count": 19,
   "metadata": {},
   "outputs": [
    {
     "name": "stdout",
     "output_type": "stream",
     "text": [
      "defaultdict(<class 'list'>,\n",
      "            {'Alejandro': ['David', 'Omar', 'Ali Akbar'],\n",
      "             'Ali Akbar': ['Liam', 'Armaan', 'Tyson'],\n",
      "             'Armaan': ['Josh', 'Jarrod', 'Navish'],\n",
      "             'Burak': ['Navish', 'David', 'Ali Akbar'],\n",
      "             'Daniel': ['Jesse', 'Josh', 'Alejandro'],\n",
      "             'David': ['Yahqub', 'Jesse', 'Josh'],\n",
      "             'Edwin': ['Omar', 'Jesse', 'Yahqub'],\n",
      "             'Jack': ['Armaan', 'Burak', 'Rick'],\n",
      "             'Jarrod': ['Keanu', 'Rick', 'Josh'],\n",
      "             'Jesse': ['Tyson', 'Tony', 'Keanu'],\n",
      "             'Jordan': ['Tyson', 'David', 'Rick'],\n",
      "             'Josh': ['Edwin', 'Daniel', 'Alejandro'],\n",
      "             'Keanu': ['Moustafa', 'Omar', 'Burak'],\n",
      "             'Liam': ['Jack', 'Armaan', 'Jordan'],\n",
      "             'Moustafa': ['Jarrod', 'Navish', 'Keanu'],\n",
      "             'Navish': ['Moustafa', 'Jarrod', 'Ali Akbar'],\n",
      "             'Omar': ['Yahqub', 'Moustafa', 'Daniel'],\n",
      "             'Rick': ['Jordan', 'Tony', 'Daniel'],\n",
      "             'Tony': ['Burak', 'Edwin', 'Josh'],\n",
      "             'Tyson': ['Alejandro', 'Liam', 'Tony'],\n",
      "             'Yahqub': ['Liam', 'Jack', 'Jordan']})\n"
     ]
    }
   ],
   "source": [
    "pool = students * 3\n",
    "\n",
    "reviewers = defaultdict(list)\n",
    "for student in students:\n",
    "    while len(reviewers[student]) < 3:\n",
    "        reviewer_proposed = random.choice(pool) \n",
    "        if student != reviewer_proposed and reviewer_proposed not in reviewers[student]:\n",
    "            reviewers[student].append(reviewer_proposed)\n",
    "            pool.remove(reviewer_proposed)\n",
    "\n",
    "pprint.pprint(reviewers)\n"
   ]
  },
  {
   "cell_type": "code",
   "execution_count": 17,
   "metadata": {},
   "outputs": [
    {
     "ename": "NameError",
     "evalue": "name 'draws' is not defined",
     "output_type": "error",
     "traceback": [
      "\u001b[0;31m---------------------------------------------------------------------------\u001b[0m",
      "\u001b[0;31mNameError\u001b[0m                                 Traceback (most recent call last)",
      "\u001b[0;32m<ipython-input-17-a6c5203f69a5>\u001b[0m in \u001b[0;36m<module>\u001b[0;34m()\u001b[0m\n\u001b[1;32m      3\u001b[0m \u001b[0;34m\u001b[0m\u001b[0m\n\u001b[1;32m      4\u001b[0m \u001b[0;32mfor\u001b[0m \u001b[0mstudent\u001b[0m \u001b[0;32min\u001b[0m \u001b[0mstudents\u001b[0m\u001b[0;34m:\u001b[0m\u001b[0;34m\u001b[0m\u001b[0m\n\u001b[0;32m----> 5\u001b[0;31m     \u001b[0mreviewer\u001b[0m \u001b[0;34m=\u001b[0m \u001b[0mrandom\u001b[0m\u001b[0;34m.\u001b[0m\u001b[0msample\u001b[0m\u001b[0;34m(\u001b[0m\u001b[0mdraws\u001b[0m\u001b[0;34m,\u001b[0m \u001b[0;36m1\u001b[0m\u001b[0;34m)\u001b[0m\u001b[0;34m\u001b[0m\u001b[0m\n\u001b[0m",
      "\u001b[0;31mNameError\u001b[0m: name 'draws' is not defined"
     ]
    }
   ],
   "source": [
    "\n",
    "\n",
    "\n",
    "for student in students:\n",
    "    reviewer = random.sample(draws, 1)"
   ]
  },
  {
   "cell_type": "code",
   "execution_count": null,
   "metadata": {
    "collapsed": true
   },
   "outputs": [],
   "source": []
  }
 ],
 "metadata": {
  "kernelspec": {
   "display_name": "Python 3",
   "language": "python",
   "name": "python3"
  },
  "language_info": {
   "codemirror_mode": {
    "name": "ipython",
    "version": 3
   },
   "file_extension": ".py",
   "mimetype": "text/x-python",
   "name": "python",
   "nbconvert_exporter": "python",
   "pygments_lexer": "ipython3",
   "version": "3.6.1"
  }
 },
 "nbformat": 4,
 "nbformat_minor": 2
}
