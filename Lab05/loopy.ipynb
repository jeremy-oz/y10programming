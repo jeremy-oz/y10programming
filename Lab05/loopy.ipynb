{
 "cells": [
  {
   "cell_type": "markdown",
   "metadata": {},
   "source": [
    "# Lab 5\n",
    "\n",
    "## Abstraction\n",
    "\n",
    "<img src=\"https://bam.files.bbci.co.uk/bam/live/content/zwvdwmn/large\">\n",
    "\n",
    "source: [BBC Bitesize](http://www.bbc.co.uk/education/guides/zttrcdm/revision)"
   ]
  },
  {
   "cell_type": "markdown",
   "metadata": {},
   "source": [
    "## Real face to virtual face\n",
    "\n",
    "### Good abstraction\n",
    "\n",
    "* Realistic: Look like a face\n",
    "* Flexibile: \n",
    "    \n",
    "    - You can move a face to any point on the canvmas.\n",
    "    - You can resize a face\n"
   ]
  },
  {
   "cell_type": "markdown",
   "metadata": {},
   "source": [
    "# Flow Control\n",
    "\n",
    "* if\n",
    "* for loop\n",
    "* while loop\n"
   ]
  },
  {
   "cell_type": "code",
   "execution_count": 1,
   "metadata": {},
   "outputs": [
    {
     "name": "stdout",
     "output_type": "stream",
     "text": [
      "Please enter your name: jeremy\n",
      "Welcome to Skynet, Sir.\n"
     ]
    }
   ],
   "source": [
    "## if 1: if only\n",
    "\n",
    "name = input('Please enter your name: ')\n",
    "\n",
    "if name == 'jeremy':\n",
    "    print('Welcome to Skynet, Sir.')\n"
   ]
  },
  {
   "cell_type": "code",
   "execution_count": 2,
   "metadata": {},
   "outputs": [
    {
     "name": "stdout",
     "output_type": "stream",
     "text": [
      "Please enter your name: tom\n",
      "Alert. Unauthorised access detected!\n"
     ]
    }
   ],
   "source": [
    "# if 2: if + else\n",
    "\n",
    "name = input('Please enter your name: ')\n",
    "\n",
    "if name == 'jeremy':\n",
    "    print('Welcome to Skynet, Sir.')\n",
    "else:\n",
    "    print('Alert. Unauthorised access detected!')\n"
   ]
  },
  {
   "cell_type": "code",
   "execution_count": 3,
   "metadata": {},
   "outputs": [
    {
     "name": "stdout",
     "output_type": "stream",
     "text": [
      "Please enter your name: mary\n",
      "Welcome to Earthnet, Madam.\n"
     ]
    }
   ],
   "source": [
    "# if 3: if + elif\n",
    "\n",
    "name = input('Please enter your name: ')\n",
    "\n",
    "if name == 'jeremy':\n",
    "    print('Welcome to Skynet, Sir.')\n",
    "elif name == 'ben':\n",
    "    print('Welcome to Oceannet, Sir.')\n",
    "elif name == 'mary':\n",
    "    print('Welcome to Earthnet, Madam.')\n",
    "else:\n",
    "    print('Alert. Unauthorised access detected!')"
   ]
  },
  {
   "cell_type": "code",
   "execution_count": 4,
   "metadata": {},
   "outputs": [
    {
     "name": "stdout",
     "output_type": "stream",
     "text": [
      "\n",
      "*\n",
      "**\n",
      "***\n",
      "****\n",
      "*****\n"
     ]
    }
   ],
   "source": [
    "# for 1:\n",
    "\n",
    "for i in [0, 1, 2, 3, 4, 5]:\n",
    "    print('*' * i)"
   ]
  },
  {
   "cell_type": "code",
   "execution_count": 5,
   "metadata": {},
   "outputs": [
    {
     "name": "stdout",
     "output_type": "stream",
     "text": [
      "*\n",
      "***\n",
      "*****\n",
      "*******\n",
      "*********\n",
      "***********\n",
      "*************\n",
      "***************\n",
      "*****************\n",
      "*******************\n"
     ]
    }
   ],
   "source": [
    "# for 1:\n",
    "# You can use `range(start, end, step)` to create a number sequence.\n",
    "\n",
    "numbers = range(1, 20, 2)\n",
    "\n",
    "for i in numbers:\n",
    "    print('*' * i)"
   ]
  },
  {
   "cell_type": "code",
   "execution_count": 6,
   "metadata": {},
   "outputs": [
    {
     "name": "stdout",
     "output_type": "stream",
     "text": [
      "*\n",
      "**\n",
      "***\n",
      "****\n",
      "*****\n",
      "******\n",
      "*******\n",
      "********\n",
      "*********\n",
      "You only see 9 stairs here. Why?\n"
     ]
    }
   ],
   "source": [
    "numbers = range(1, 10) # without step, it will use 1 for step.\n",
    "\n",
    "for i in numbers:\n",
    "    print('*' * i)\n",
    "    \n",
    "print('You only see 9 stairs here. Why?')"
   ]
  },
  {
   "cell_type": "code",
   "execution_count": 7,
   "metadata": {},
   "outputs": [
    {
     "name": "stdout",
     "output_type": "stream",
     "text": [
      "\n",
      "*\n",
      "**\n",
      "***\n",
      "****\n",
      "*****\n",
      "******\n",
      "*******\n",
      "********\n",
      "*********\n",
      "You only see 9 stairs here. Why?\n"
     ]
    }
   ],
   "source": [
    "numbers = range(10) # only one number, it starts with 0 and ends with (the number - 1)\n",
    "\n",
    "for i in numbers:\n",
    "    print('*' * i)\n",
    "\n",
    "print('You only see 9 stairs here. Why?')"
   ]
  },
  {
   "cell_type": "code",
   "execution_count": 8,
   "metadata": {},
   "outputs": [
    {
     "name": "stdout",
     "output_type": "stream",
     "text": [
      "You should wear Blue clothes.\n",
      "You should wear Green clothes.\n",
      "You should wear Red clothes.\n",
      "You should wear Pink clothes.\n"
     ]
    }
   ],
   "source": [
    "# for 2:\n",
    "\n",
    "for color in ['Blue', 'Green', 'Red', 'Pink']:\n",
    "    print('You should wear', color, 'clothes.')"
   ]
  },
  {
   "cell_type": "markdown",
   "metadata": {},
   "source": [
    "## Data Structure\n",
    "\n",
    "* list\n",
    "    Example: numbers = [11, 23, 15, 17, 18]\n",
    "* dict\n",
    "    Example: scores = {'Liam': 13, 'Alex': 18, 'Daniel': 20, 'Josh': 22}\n"
   ]
  },
  {
   "cell_type": "code",
   "execution_count": 13,
   "metadata": {},
   "outputs": [
    {
     "name": "stdout",
     "output_type": "stream",
     "text": [
      "{'John': 89, 'Tim': 99, 'Jimmy': 78}\n"
     ]
    }
   ],
   "source": [
    "scores = {}\n",
    "\n",
    "scores['John'] = 89\n",
    "scores['Tim'] = 99\n",
    "scores['Jimmy'] = 78\n",
    "\n",
    "print(scores)"
   ]
  },
  {
   "cell_type": "code",
   "execution_count": null,
   "metadata": {
    "collapsed": true
   },
   "outputs": [],
   "source": []
  }
 ],
 "metadata": {
  "kernelspec": {
   "display_name": "Python 3",
   "language": "python",
   "name": "python3"
  },
  "language_info": {
   "codemirror_mode": {
    "name": "ipython",
    "version": 3
   },
   "file_extension": ".py",
   "mimetype": "text/x-python",
   "name": "python",
   "nbconvert_exporter": "python",
   "pygments_lexer": "ipython3",
   "version": "3.6.1"
  }
 },
 "nbformat": 4,
 "nbformat_minor": 2
}
