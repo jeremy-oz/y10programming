{
 "cells": [
  {
   "cell_type": "markdown",
   "metadata": {},
   "source": [
    "# Payroll System\n",
    "\n",
    "You need to fix the following code:\n",
    "\n",
    "* spec 5 is an extended task. See next cell.\n",
    "\n",
    "## Data Types:\n",
    "\n",
    "700  int\n",
    "7.0 OR 7.20000002 float\n",
    "“Hello World” str\n",
    "\n",
    "## Conversion\n",
    "\n",
    "You can check data types using python interpreter:\n",
    "\n",
    "`>>> type(hours)`\n",
    "\n",
    "Or `print(hours)`\n",
    "\n",
    "If the types are wrong, you won't be able to get the value you want.\n",
    "\n",
    "For example, if you multiply a text \"10\" with another text \"5\", you won't get 50.\n",
    "\n",
    "Remember: \"10\" is not 10.\n",
    "\n",
    "<hr/>\n",
    "\n",
    "```\n",
    "print('=======================================')\n",
    "print('Welcome to Super Payroll System')\n",
    "print('=======================================')\n",
    "\n",
    "# Spec\n",
    "# 1. ask for employee name\n",
    "# 2. ask for hourly rate\n",
    "# 3. ask for how many hours the employee works\n",
    "# 4. calculate the pay\n",
    "# 5. print a pay cheque\n",
    "\n",
    "name = input('What is your name? ')\n",
    "rate = input('What is your hourly rate? ')\n",
    "hours = input('How many hours do you work? ')\n",
    "\n",
    "rate = float(rate)\n",
    "hours = float(hours)\n",
    "\n",
    "pay = rate * hours\n",
    "print(name, ', your pay is $', pay)\n",
    "\n",
    "# print a pay cheque\n",
    "\n",
    "```"
   ]
  },
  {
   "cell_type": "markdown",
   "metadata": {},
   "source": [
    "## More about print() function\n",
    "\n",
    "\n",
    "When showing text with print(), sometimes you need \"escape\" a character. It means you have to use special notations to print certain characters.\n",
    "\n",
    "Common example:\n",
    "\n",
    "```\n",
    "\\\\ \tBackslash (\\)\n",
    "\\' \tSingle quote (')\n",
    "\\\" \tDouble quote (\")\n",
    "\\n \tLinefeed (LF)\n",
    "\\r \tReturn (CR)\n",
    "\\t \tTab (TAB)\n",
    "```"
   ]
  },
  {
   "cell_type": "markdown",
   "metadata": {},
   "source": [
    "### Lab 3.1\n",
    "\n",
    "Print a cheque for the emplyee.\n",
    "\n",
    "<img src=\"cheque.jpg\" alt=\"Bank Cheque\" style=\"width: 600px;\"/>\n"
   ]
  },
  {
   "cell_type": "code",
   "execution_count": 16,
   "metadata": {},
   "outputs": [
    {
     "name": "stdout",
     "output_type": "stream",
     "text": [
      "+--------------------------------------------------------------------------------+\n",
      "|\tAlkira Bank                                                              |\n",
      "|                                                                                |\n",
      "|\tPay: Jeremy Chen                                                         |\n",
      "|                                                                                |\n",
      "|                                                                                |\n",
      "|                                                                                |\n",
      "|                                                                                |\n",
      "|                                                                                |\n",
      "+--------------------------------------------------------------------------------+\n"
     ]
    }
   ],
   "source": [
    "# part of the code\n",
    "# \n",
    "# You can use + to combine text (strings).\n",
    "# You can use * to repeat text (strings).\n",
    "#\n",
    "# If you want to insert a variable (or many) in a string,\n",
    "# Use {name} like below\n",
    "# But you have to prefix it with f'.....'. \n",
    "# This is call f-string.\n",
    "#\n",
    "# You can also use many \"+\" to achieve the same result.\n",
    "\n",
    "name = \"Jeremy Chen\"\n",
    "print('+' + '-'*80 + '+')\n",
    "print('|' + '\\tAlkira Bank' + ' '*62 + '|')\n",
    "print('|' + ' '*80 + '|')\n",
    "print('|' + f'\\tPay: {name}' + ' '*57 + '|')\n",
    "print('|' + ' '*80 + '|')\n",
    "print('|' + ' '*80 + '|')\n",
    "print('|' + ' '*80 + '|')\n",
    "print('|' + ' '*80 + '|')\n",
    "print('|' + ' '*80 + '|')\n",
    "print('+' + '-'*80 + '+')"
   ]
  }
 ],
 "metadata": {
  "kernelspec": {
   "display_name": "Python 3",
   "language": "python",
   "name": "python3"
  },
  "language_info": {
   "codemirror_mode": {
    "name": "ipython",
    "version": 3
   },
   "file_extension": ".py",
   "mimetype": "text/x-python",
   "name": "python",
   "nbconvert_exporter": "python",
   "pygments_lexer": "ipython3",
   "version": "3.6.1"
  }
 },
 "nbformat": 4,
 "nbformat_minor": 2
}
