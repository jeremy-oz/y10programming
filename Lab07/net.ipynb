{
 "cells": [
  {
   "cell_type": "code",
   "execution_count": 2,
   "metadata": {},
   "outputs": [
    {
     "name": "stdout",
     "output_type": "stream",
     "text": [
      "Host name: JeremyChensMBP.gateway\n",
      "IP address: 10.0.0.36\n"
     ]
    }
   ],
   "source": [
    "import socket\n",
    "\n",
    "\n",
    "def print_machine_info():\n",
    "    host_name = socket.gethostname()\n",
    "    ip_address = socket.gethostbyname(host_name)\n",
    "    print (\"Host name: %s\" %host_name)\n",
    "    print (\"IP address: %s\" %ip_address)\n",
    "\n",
    "if __name__ == '__main__':\n",
    "    print_machine_info()"
   ]
  },
  {
   "cell_type": "code",
   "execution_count": 32,
   "metadata": {},
   "outputs": [
    {
     "name": "stdout",
     "output_type": "stream",
     "text": [
      "HTTP/1.1 403 Forbidden\r\n",
      "Date: Sun, 03 Sep 2017 03:00:50 GMT\r\n",
      "Content-Type: text/html; charset=UTF-8\r\n",
      "Connection: close\r\n",
      "Set-Cookie: __cfduid=db7a69176415819053075e6bf17d1c3481504407650; expires=Mon, 03-Sep-18 03:00:50 GMT; path=/; domain=.12f259; HttpOnly\r\n",
      "Cache-Control: max-age=15\r\n",
      "Expires: Sun, 03 Sep 2017 03:01:05 GMT\r\n",
      "X-Frame-Options: SAMEORIGIN\r\n",
      "Server: cloudflare-nginx\r\n",
      "CF-RAY: 3985760731487924-LAX\r\n",
      "\r\n",
      "<!DOCTYPE html>\n",
      "<!--[if lt IE 7]> <html class=\"no-js ie6 oldie\" lang=\"en-US\"> <![endif]-->\n",
      "<!--[if IE 7]>    <html class=\"no-js ie7 oldie\" lang=\"en-US\"> <![endif]-->\n",
      "<!--[if IE 8]>    <html class=\"no-js ie8 oldie\" lang=\"en-US\"> <![endif]-->\n",
      "<!--[if gt IE 8]><!--> <html class=\"no-js\" lang=\"en-US\"> <!--<![endif]-->\n",
      "<head>\n",
      "<title>Direct IP access not allowed | Cloudflare</title></title>\n",
      "<meta charset=\"UTF-8\" />\n",
      "<meta http-equiv=\"Content-Type\" content=\"text/html; charset=UTF-8\" />\n",
      "<meta http-equiv=\"X-UA-Compatible\" content=\"IE=Edge,chrome=1\" />\n",
      "<meta name=\"robots\" content=\"noindex, nofo\n"
     ]
    }
   ],
   "source": [
    "# Client\n",
    "import socket\n",
    "\n",
    "\n",
    "mysocket = socket.socket(socket.AF_INET, socket.SOCK_STREAM)\n",
    "host = socket.gethostbyname('www.linux.org')\n",
    "mysocket.connect((host, 80))\n",
    "message = \"GET / HTTP/1.0\\r\\n\\r\\n\"\n",
    "mysocket.sendall(message.encode('utf-8'))\n",
    "data = mysocket.recv(1000)\n",
    "mysocket.close()\n",
    "print(data.decode('utf-8'))"
   ]
  },
  {
   "cell_type": "code",
   "execution_count": 27,
   "metadata": {},
   "outputs": [
    {
     "name": "stdout",
     "output_type": "stream",
     "text": [
      "b'HTTP/1.0 302 Found\\r\\nCache-Control: private\\r\\nContent-Type: text/html; charset=UTF-8\\r\\nReferrer-Policy: no-referrer\\r\\nLocation: https://www.google.com.au/?gfe_rd=cr&dcr=0&ei=QKiqWfm2HsXr8AeD6Y2IDw\\r\\nContent-Length: 273\\r\\nDate: Sat, 02 Sep 2017 12:46:56 GMT\\r\\nAlt-Svc: quic=\":443\"; ma=2592000; v=\"39,38,37,35\"\\r\\n\\r\\n<HTML><HEAD><meta http-equiv=\"content-type\" content=\"text/html;charset=utf-8\">\\n<TITLE>302 Moved</TITLE></HEAD><BODY>\\n<H1>302 Moved</H1>\\nThe document has moved\\n<A HREF=\"https://www.google.com.au/?gfe_rd=cr&amp;dcr=0&amp;ei=QKiqWfm2HsXr8AeD6Y2IDw\">here</A>.\\r\\n</BODY></HTML>\\r\\n'\n"
     ]
    }
   ],
   "source": [
    "import socket\n",
    "import ssl\n",
    "\n",
    "\n",
    "s = socket.socket(socket.AF_INET, socket.SOCK_STREAM)\n",
    "ss = ssl.wrap_socket(s, ssl_version=ssl.PROTOCOL_TLSv1)\n",
    "addr = ('www.google.com.au', 443)\n",
    "ss.connect(addr)\n",
    "ss.send(b'GET / HTTP/1.0\\r\\n\\r\\n')\n",
    "resp = ss.recv(1000)\n",
    "ss.close()\n",
    "print(resp)\n"
   ]
  },
  {
   "cell_type": "markdown",
   "metadata": {},
   "source": [
    "# Echo Server\n",
    "\n",
    "1. Create a socket\n",
    "1. Bind the socket to an IP address and port\n",
    "1. Listen for a connection\n",
    "1. Accept for the connection\n",
    "1. Receive the request\n",
    "1. Send the request"
   ]
  },
  {
   "cell_type": "code",
   "execution_count": 34,
   "metadata": {
    "collapsed": true
   },
   "outputs": [],
   "source": [
    "# once serve once\n",
    "import socket\n",
    "\n",
    "\n",
    "mysocket = socket.socket(socket.AF_INET, socket.SOCK_STREAM)\n",
    "mysocket.bind(('', 9999)) # leave the host IP empty '', it will bind to any IP\n",
    "mysocket.listen(5)\n",
    "conn, addr = mysocket.accept()\n",
    "data = conn.recv(1000)\n",
    "conn.sendall(data)\n",
    "conn.close()\n",
    "mysocket.close()"
   ]
  },
  {
   "cell_type": "code",
   "execution_count": 1,
   "metadata": {},
   "outputs": [
    {
     "ename": "OSError",
     "evalue": "[Errno 48] Address already in use",
     "output_type": "error",
     "traceback": [
      "\u001b[0;31m---------------------------------------------------------------------------\u001b[0m",
      "\u001b[0;31mOSError\u001b[0m                                   Traceback (most recent call last)",
      "\u001b[0;32m<ipython-input-1-cffc14191369>\u001b[0m in \u001b[0;36m<module>\u001b[0;34m()\u001b[0m\n\u001b[1;32m      5\u001b[0m \u001b[0;34m\u001b[0m\u001b[0m\n\u001b[1;32m      6\u001b[0m \u001b[0mmysocket\u001b[0m \u001b[0;34m=\u001b[0m \u001b[0msocket\u001b[0m\u001b[0;34m.\u001b[0m\u001b[0msocket\u001b[0m\u001b[0;34m(\u001b[0m\u001b[0msocket\u001b[0m\u001b[0;34m.\u001b[0m\u001b[0mAF_INET\u001b[0m\u001b[0;34m,\u001b[0m \u001b[0msocket\u001b[0m\u001b[0;34m.\u001b[0m\u001b[0mSOCK_STREAM\u001b[0m\u001b[0;34m)\u001b[0m\u001b[0;34m\u001b[0m\u001b[0m\n\u001b[0;32m----> 7\u001b[0;31m \u001b[0mmysocket\u001b[0m\u001b[0;34m.\u001b[0m\u001b[0mbind\u001b[0m\u001b[0;34m(\u001b[0m\u001b[0;34m(\u001b[0m\u001b[0;34m''\u001b[0m\u001b[0;34m,\u001b[0m \u001b[0;36m9999\u001b[0m\u001b[0;34m)\u001b[0m\u001b[0;34m)\u001b[0m \u001b[0;31m# leave the host IP empty '', it will bind to any IP\u001b[0m\u001b[0;34m\u001b[0m\u001b[0m\n\u001b[0m\u001b[1;32m      8\u001b[0m \u001b[0mmysocket\u001b[0m\u001b[0;34m.\u001b[0m\u001b[0mlisten\u001b[0m\u001b[0;34m(\u001b[0m\u001b[0;36m5\u001b[0m\u001b[0;34m)\u001b[0m\u001b[0;34m\u001b[0m\u001b[0m\n\u001b[1;32m      9\u001b[0m \u001b[0mconn\u001b[0m\u001b[0;34m,\u001b[0m \u001b[0maddr\u001b[0m \u001b[0;34m=\u001b[0m \u001b[0mmysocket\u001b[0m\u001b[0;34m.\u001b[0m\u001b[0maccept\u001b[0m\u001b[0;34m(\u001b[0m\u001b[0;34m)\u001b[0m\u001b[0;34m\u001b[0m\u001b[0m\n",
      "\u001b[0;31mOSError\u001b[0m: [Errno 48] Address already in use"
     ]
    }
   ],
   "source": [
    "# Live Server\n",
    "import socket\n",
    "from time import ctime\n",
    "\n",
    "\n",
    "mysocket = socket.socket(socket.AF_INET, socket.SOCK_STREAM)\n",
    "#mysocket.setblocking(True) # the default setting\n",
    "mysocket.bind(('', 9998)) # leave the host IP empty '', it will bind to any IP\n",
    "\n",
    "while True:\n",
    "    mysocket.listen(5) # number of unaccepted connections that allow before refusing new connections.\n",
    "    conn, addr = mysocket.accept()\n",
    "    while True:\n",
    "        data = conn.recv(1024) # the value of bufsize should be a relatively small power of 2\n",
    "        text = data.decode('utf-8').strip()\n",
    "        print(len(data), len(text))\n",
    "        if not text or text == 'END':\n",
    "            break\n",
    "        #print(data.decode('utf-8'), len(data.decode('utf-8')))\n",
    "        print(\"Received from client: %s\" % text)\n",
    "        print(\"Sending the server time to client: %s\"  %ctime())\n",
    "        try:\n",
    "            conn.send(bytes('Time: ', 'utf-8'))\n",
    "            conn.send(bytes(ctime(), 'utf-8'))\n",
    "            conn.send(bytes(' Received: ', 'utf-8'))\n",
    "            conn.sendall(bytes(text, 'utf-8'))\n",
    "            conn.send(bytes('\\n\\n', 'utf-8'))\n",
    "        except KeyboardInterrupt:\n",
    "            print(\"Exited by user\")\n",
    "    conn.close()\n",
    "mysocket.close()\n"
   ]
  },
  {
   "cell_type": "code",
   "execution_count": 10,
   "metadata": {},
   "outputs": [
    {
     "ename": "OSError",
     "evalue": "[Errno 48] Address already in use",
     "output_type": "error",
     "traceback": [
      "\u001b[0;31m---------------------------------------------------------------------------\u001b[0m",
      "\u001b[0;31mOSError\u001b[0m                                   Traceback (most recent call last)",
      "\u001b[0;32m<ipython-input-10-48f047a7487d>\u001b[0m in \u001b[0;36m<module>\u001b[0;34m()\u001b[0m\n\u001b[1;32m      6\u001b[0m \u001b[0mmy_socket\u001b[0m \u001b[0;34m=\u001b[0m \u001b[0msocket\u001b[0m\u001b[0;34m.\u001b[0m\u001b[0msocket\u001b[0m\u001b[0;34m(\u001b[0m\u001b[0msocket\u001b[0m\u001b[0;34m.\u001b[0m\u001b[0mAF_INET\u001b[0m\u001b[0;34m,\u001b[0m \u001b[0msocket\u001b[0m\u001b[0;34m.\u001b[0m\u001b[0mSOCK_STREAM\u001b[0m\u001b[0;34m)\u001b[0m\u001b[0;34m\u001b[0m\u001b[0m\n\u001b[1;32m      7\u001b[0m \u001b[0;31m#mysocket.setblocking(True) # the default setting\u001b[0m\u001b[0;34m\u001b[0m\u001b[0;34m\u001b[0m\u001b[0m\n\u001b[0;32m----> 8\u001b[0;31m \u001b[0mmy_socket\u001b[0m\u001b[0;34m.\u001b[0m\u001b[0mbind\u001b[0m\u001b[0;34m(\u001b[0m\u001b[0;34m(\u001b[0m\u001b[0;34m''\u001b[0m\u001b[0;34m,\u001b[0m \u001b[0;36m9997\u001b[0m\u001b[0;34m)\u001b[0m\u001b[0;34m)\u001b[0m \u001b[0;31m# leave the host IP empty '', it will bind to any IP\u001b[0m\u001b[0;34m\u001b[0m\u001b[0m\n\u001b[0m\u001b[1;32m      9\u001b[0m \u001b[0mmy_socket\u001b[0m\u001b[0;34m.\u001b[0m\u001b[0mlisten\u001b[0m\u001b[0;34m(\u001b[0m\u001b[0;36m5\u001b[0m\u001b[0;34m)\u001b[0m \u001b[0;31m# number of unaccepted connections that allow before refusing new connections.\u001b[0m\u001b[0;34m\u001b[0m\u001b[0m\n\u001b[1;32m     10\u001b[0m \u001b[0;34m\u001b[0m\u001b[0m\n",
      "\u001b[0;31mOSError\u001b[0m: [Errno 48] Address already in use"
     ]
    }
   ],
   "source": [
    "# Web Request Print Out Server\n",
    "import socket\n",
    "from time import ctime\n",
    "\n",
    "\n",
    "my_socket = socket.socket(socket.AF_INET, socket.SOCK_STREAM)\n",
    "#mysocket.setblocking(True) # the default setting\n",
    "my_socket.bind(('', 9997)) # leave the host IP empty '', it will bind to any IP\n",
    "my_socket.listen(5) # number of unaccepted connections that allow before refusing new connections.\n",
    "\n",
    "while True:\n",
    "    try:\n",
    "        conn, addr = my_socket.accept()\n",
    "        data = b''\n",
    "        while True:\n",
    "            chunk = conn.recv(1024) # the value of bufsize should be a relatively small power of 2\n",
    "            if not data:\n",
    "                break\n",
    "            data += chunk\n",
    "        conn.close()\n",
    "    except Exception as e:\n",
    "        print(e)\n",
    "        conn.close()\n",
    "        my_socket.close()\n",
    "    text = data.decode('utf-8').strip()\n",
    "    print(text)\n",
    "    print('Got a request!')\n",
    "    \n",
    "    "
   ]
  },
  {
   "cell_type": "code",
   "execution_count": null,
   "metadata": {
    "collapsed": true
   },
   "outputs": [],
   "source": []
  }
 ],
 "metadata": {
  "kernelspec": {
   "display_name": "Python 3",
   "language": "python",
   "name": "python3"
  },
  "language_info": {
   "codemirror_mode": {
    "name": "ipython",
    "version": 3
   },
   "file_extension": ".py",
   "mimetype": "text/x-python",
   "name": "python",
   "nbconvert_exporter": "python",
   "pygments_lexer": "ipython3",
   "version": "3.6.1"
  }
 },
 "nbformat": 4,
 "nbformat_minor": 2
}
